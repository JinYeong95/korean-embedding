{
  "cells": [
    {
      "cell_type": "markdown",
      "metadata": {
        "id": "Tm69s3wiYy0L"
      },
      "source": [
        "### 과제\n",
        "[AI Hub](https://www.aihub.or.kr/)에 공개되어 있는 한국어 도서 요약 데이터셋을 활용하여 한국어 워드 임베딩 구축"
      ]
    },
    {
      "cell_type": "code",
      "execution_count": 63,
      "metadata": {
        "colab": {
          "base_uri": "https://localhost:8080/"
        },
        "id": "72p88zaKjL1Q",
        "outputId": "97dfc8df-56d8-4c5d-b965-94a8d74d677e"
      },
      "outputs": [
        {
          "output_type": "stream",
          "name": "stdout",
          "text": [
            "Requirement already satisfied: konlpy in /usr/local/lib/python3.10/dist-packages (0.6.0)\n",
            "Requirement already satisfied: JPype1>=0.7.0 in /usr/local/lib/python3.10/dist-packages (from konlpy) (1.4.1)\n",
            "Requirement already satisfied: lxml>=4.1.0 in /usr/local/lib/python3.10/dist-packages (from konlpy) (4.9.2)\n",
            "Requirement already satisfied: numpy>=1.6 in /usr/local/lib/python3.10/dist-packages (from konlpy) (1.22.4)\n",
            "Requirement already satisfied: packaging in /usr/local/lib/python3.10/dist-packages (from JPype1>=0.7.0->konlpy) (23.1)\n"
          ]
        }
      ],
      "source": [
        "!pip install konlpy"
      ]
    },
    {
      "cell_type": "code",
      "execution_count": 64,
      "metadata": {
        "id": "P9SYBDhjjPoB"
      },
      "outputs": [],
      "source": [
        "import pandas as pd\n",
        "import numpy as np\n",
        "import matplotlib.pyplot as plt\n",
        "import urllib.request\n",
        "from gensim.models.word2vec import Word2Vec\n",
        "from konlpy.tag import Okt"
      ]
    },
    {
      "cell_type": "code",
      "execution_count": 65,
      "metadata": {
        "id": "OjfPoiSgjTTy"
      },
      "outputs": [],
      "source": [
        "# with open('/content/drive/MyDrive/modi_output.txt', 'r') as file:\n",
        "#     contents = file.read()\n",
        "#     word_list = contents.split()  # 띄어쓰기로 분할하여 리스트로 반환\n",
        "#     print(word_list)"
      ]
    },
    {
      "cell_type": "code",
      "execution_count": 66,
      "metadata": {
        "id": "aaoTBar6sGd2"
      },
      "outputs": [],
      "source": [
        "# dataset = contents(shuffle=True, random_state=10, remove=('headers', 'footers', 'quotes'))\n",
        "# # dataset\n",
        "# # dataset.data\n",
        "# dataset = dataset.data"
      ]
    },
    {
      "cell_type": "code",
      "execution_count": 67,
      "metadata": {
        "id": "8CcXWRtEsBLH"
      },
      "outputs": [],
      "source": [
        "# contents[0]"
      ]
    },
    {
      "cell_type": "code",
      "execution_count": 68,
      "metadata": {
        "id": "vcQo6YCbj2Lo"
      },
      "outputs": [],
      "source": [
        "# len(contents)"
      ]
    },
    {
      "cell_type": "code",
      "execution_count": 69,
      "metadata": {
        "id": "5K8bNGoortQm"
      },
      "outputs": [],
      "source": [
        "# contents"
      ]
    },
    {
      "cell_type": "code",
      "execution_count": 70,
      "metadata": {
        "id": "2r3H_GFLnSQp"
      },
      "outputs": [],
      "source": [
        "# new_df = pd.DataFrame({'document': contents}, index=[0])"
      ]
    },
    {
      "cell_type": "code",
      "execution_count": 71,
      "metadata": {
        "id": "cNta-c09oYks"
      },
      "outputs": [],
      "source": [
        "# new_df"
      ]
    },
    {
      "cell_type": "code",
      "execution_count": 72,
      "metadata": {
        "id": "cNVNzkw3tX_z"
      },
      "outputs": [],
      "source": [
        "train = pd.read_csv('/content/drive/MyDrive/modi_output.txt', delimiter='\\t', usecols=[0, 1])"
      ]
    },
    {
      "cell_type": "code",
      "execution_count": 73,
      "metadata": {
        "colab": {
          "base_uri": "https://localhost:8080/",
          "height": 710
        },
        "id": "l78qs27ot_zd",
        "outputId": "ed4904ff-9374-447a-cf27-b34350266fa9"
      },
      "outputs": [
        {
          "output_type": "execute_result",
          "data": {
            "text/plain": [
              "       자신의 생각을 불명확하게 표현하는 사람들은 생각도 불명확할 가능성이 높다. 따라서 생각을 명료하게 정리하는 것이 명확한 글쓰기의 시작이다. 존 케네스 갈브레이드(John Kenneth Galbraith) 교수는 “아무리 복잡하고 어려운 주제라고 명쾌한 언어로 설명이 가능하다. 하지만 필자가 그 주제에 대해 완전히 이해하지 못하면 절대로 명확하게 쓸 수 없다.”고 했다. 명료한 글은 명료한 생각에서 나온다. 그렇지만 글을 고치다보면 생각도 명료하게 된다. 명료하게 쓰려면 내용을 단순화해야 한다. 많은 것을 전달하려는 욕심을 버리고 한두가지로 선택하고 거기 집중해야 한다. 앞에서 이야기한 간결성은 명확성에 도움이 된다. 명료함은 복잡한 설득기법을 사용하는 것보다 더 중요하다. 판사는 이해할 수 없는 사실관계 진술로는 설득되지 않는다. 설득기법이 명료함을 해치는 때에는 그 기법을 사용하지 않는다.  \\\n",
              "0       진로체험의 운영 역량을 강화하기 위하여 단위학교의 담당교사 외 에도 진로체험을 인솔...                                                                                                                                                                                                                                                                                                                                                                                                                 \n",
              "1       매우 최근 의견에서, Mary Footer는 이 논쟁을 한발 더 진전시켰다. 그녀는...                                                                                                                                                                                                                                                                                                                                                                                                                 \n",
              "2       에너지원별 소비 비중의 변화에서 눈에 띄는 것은 전력비중이 1981년에 비해 2배 ...                                                                                                                                                                                                                                                                                                                                                                                                                 \n",
              "3       강원의 주류 기술지식 영역과 전략산업을 살펴보면 웰니스식품, 스포츠지식서비스, 의료...                                                                                                                                                                                                                                                                                                                                                                                                                 \n",
              "4       그렇다면 실질과세를 적요하기 위해서도 페이퍼컴퍼니의 판단기준이 필요한데, 이는 주식...                                                                                                                                                                                                                                                                                                                                                                                                                 \n",
              "...                                                   ...                                                                                                                                                                                                                                                                                                                                                                                                                 \n",
              "159503  유기성 폐기물 에너지화 시설 확대의 속성별 MWTP를 추정한 결과는 <표 5>에 제...                                                                                                                                                                                                                                                                                                                                                                                                                 \n",
              "159504  일반적으로 정비하천은 자연하천에 비해 댐이나 보 등의 영향으로 하천유량이 많고 유속...                                                                                                                                                                                                                                                                                                                                                                                                                 \n",
              "159505  NCATS는 CTSA 사업 이외에도 임상으로의 중개를 위해 다양한 사업들을 진행하는...                                                                                                                                                                                                                                                                                                                                                                                                                 \n",
              "159506  해외 TA 방식과 또 다른 차이점으로는 국내의 경우에는 평가기술에 대한 과학적 지식...                                                                                                                                                                                                                                                                                                                                                                                                                 \n",
              "159507  Cincera et al.(2013)의 연구도 동일하다. EU Industrial ...                                                                                                                                                                                                                                                                                                                                                                                                                 \n",
              "\n",
              "       주제가 아무리 복잡하고 어려울 지라도 필자가 주제에 대해 완벽하게 이해하고 있다면 명확한 글쓰기는 당연 가능하다. 명확한 글쓰기를 할 때 가장 중요한 점은 내용의 단순화 및 간결성이고 많은 것을 전달하려는 욕심을 버리는 것이다.  \n",
              "0       진로체험을 위해서 교사 외에도 인솔, 안전 등의 일용직 인력이 필요하다. 재정과 고...                                                                               \n",
              "1       Mary Footer는 최근에 WTO법의 모순을 해결하기 위해 다섯가지를 제안했다....                                                                               \n",
              "2       에너지원별 소비 비중 중 전력비중은 지속적으로 증가하였고, 이것은 원자력 발전 설비...                                                                               \n",
              "3       강원의 주류 기술지식과 전략산업에는 웰니스식품, 스포츠지식서비스, 의료기기, 바이오...                                                                               \n",
              "4       실질과세의 적용을 위해 페이퍼컴퍼니의 판단기준이 필요하다. 주식의 이동경위와 실질적...                                                                               \n",
              "...                                                   ...                                                                               \n",
              "159503  한정애안과 양창영안은 등록제를 제안하고, 장하나안과 유럽연합은 허가제·면허제를 도입...                                                                               \n",
              "159504  토지이용의 변화로 탄소가 풍부한 유출물 침전과 지표유출수 내 고형물 퇴적은 정비하천...                                                                               \n",
              "159505  NCATS는 이 외에도 여러 사업들을 진행하는데, 대부분이 공동연구이다. 약물 개발...                                                                               \n",
              "159506  국내는 평가기술에 대한 과학적 지식, 경제성 분석, 사회적 효과가 하나의 보고서 안...                                                                               \n",
              "159507  경제위기 발생 이후 대기업의 R&D 투자는 짧은 기간동안 소폭 감소하는데 그쳤으나,...                                                                               \n",
              "\n",
              "[159508 rows x 2 columns]"
            ],
            "text/html": [
              "\n",
              "  <div id=\"df-7673d60a-7df9-462c-8eb8-43bb057b0ce4\">\n",
              "    <div class=\"colab-df-container\">\n",
              "      <div>\n",
              "<style scoped>\n",
              "    .dataframe tbody tr th:only-of-type {\n",
              "        vertical-align: middle;\n",
              "    }\n",
              "\n",
              "    .dataframe tbody tr th {\n",
              "        vertical-align: top;\n",
              "    }\n",
              "\n",
              "    .dataframe thead th {\n",
              "        text-align: right;\n",
              "    }\n",
              "</style>\n",
              "<table border=\"1\" class=\"dataframe\">\n",
              "  <thead>\n",
              "    <tr style=\"text-align: right;\">\n",
              "      <th></th>\n",
              "      <th>자신의 생각을 불명확하게 표현하는 사람들은 생각도 불명확할 가능성이 높다. 따라서 생각을 명료하게 정리하는 것이 명확한 글쓰기의 시작이다. 존 케네스 갈브레이드(John Kenneth Galbraith) 교수는 “아무리 복잡하고 어려운 주제라고 명쾌한 언어로 설명이 가능하다. 하지만 필자가 그 주제에 대해 완전히 이해하지 못하면 절대로 명확하게 쓸 수 없다.”고 했다. 명료한 글은 명료한 생각에서 나온다. 그렇지만 글을 고치다보면 생각도 명료하게 된다. 명료하게 쓰려면 내용을 단순화해야 한다. 많은 것을 전달하려는 욕심을 버리고 한두가지로 선택하고 거기 집중해야 한다. 앞에서 이야기한 간결성은 명확성에 도움이 된다. 명료함은 복잡한 설득기법을 사용하는 것보다 더 중요하다. 판사는 이해할 수 없는 사실관계 진술로는 설득되지 않는다. 설득기법이 명료함을 해치는 때에는 그 기법을 사용하지 않는다.</th>\n",
              "      <th>주제가 아무리 복잡하고 어려울 지라도 필자가 주제에 대해 완벽하게 이해하고 있다면 명확한 글쓰기는 당연 가능하다. 명확한 글쓰기를 할 때 가장 중요한 점은 내용의 단순화 및 간결성이고 많은 것을 전달하려는 욕심을 버리는 것이다.</th>\n",
              "    </tr>\n",
              "  </thead>\n",
              "  <tbody>\n",
              "    <tr>\n",
              "      <th>0</th>\n",
              "      <td>진로체험의 운영 역량을 강화하기 위하여 단위학교의 담당교사 외 에도 진로체험을 인솔...</td>\n",
              "      <td>진로체험을 위해서 교사 외에도 인솔, 안전 등의 일용직 인력이 필요하다. 재정과 고...</td>\n",
              "    </tr>\n",
              "    <tr>\n",
              "      <th>1</th>\n",
              "      <td>매우 최근 의견에서, Mary Footer는 이 논쟁을 한발 더 진전시켰다. 그녀는...</td>\n",
              "      <td>Mary Footer는 최근에 WTO법의 모순을 해결하기 위해 다섯가지를 제안했다....</td>\n",
              "    </tr>\n",
              "    <tr>\n",
              "      <th>2</th>\n",
              "      <td>에너지원별 소비 비중의 변화에서 눈에 띄는 것은 전력비중이 1981년에 비해 2배 ...</td>\n",
              "      <td>에너지원별 소비 비중 중 전력비중은 지속적으로 증가하였고, 이것은 원자력 발전 설비...</td>\n",
              "    </tr>\n",
              "    <tr>\n",
              "      <th>3</th>\n",
              "      <td>강원의 주류 기술지식 영역과 전략산업을 살펴보면 웰니스식품, 스포츠지식서비스, 의료...</td>\n",
              "      <td>강원의 주류 기술지식과 전략산업에는 웰니스식품, 스포츠지식서비스, 의료기기, 바이오...</td>\n",
              "    </tr>\n",
              "    <tr>\n",
              "      <th>4</th>\n",
              "      <td>그렇다면 실질과세를 적요하기 위해서도 페이퍼컴퍼니의 판단기준이 필요한데, 이는 주식...</td>\n",
              "      <td>실질과세의 적용을 위해 페이퍼컴퍼니의 판단기준이 필요하다. 주식의 이동경위와 실질적...</td>\n",
              "    </tr>\n",
              "    <tr>\n",
              "      <th>...</th>\n",
              "      <td>...</td>\n",
              "      <td>...</td>\n",
              "    </tr>\n",
              "    <tr>\n",
              "      <th>159503</th>\n",
              "      <td>유기성 폐기물 에너지화 시설 확대의 속성별 MWTP를 추정한 결과는 &lt;표 5&gt;에 제...</td>\n",
              "      <td>한정애안과 양창영안은 등록제를 제안하고, 장하나안과 유럽연합은 허가제·면허제를 도입...</td>\n",
              "    </tr>\n",
              "    <tr>\n",
              "      <th>159504</th>\n",
              "      <td>일반적으로 정비하천은 자연하천에 비해 댐이나 보 등의 영향으로 하천유량이 많고 유속...</td>\n",
              "      <td>토지이용의 변화로 탄소가 풍부한 유출물 침전과 지표유출수 내 고형물 퇴적은 정비하천...</td>\n",
              "    </tr>\n",
              "    <tr>\n",
              "      <th>159505</th>\n",
              "      <td>NCATS는 CTSA 사업 이외에도 임상으로의 중개를 위해 다양한 사업들을 진행하는...</td>\n",
              "      <td>NCATS는 이 외에도 여러 사업들을 진행하는데, 대부분이 공동연구이다. 약물 개발...</td>\n",
              "    </tr>\n",
              "    <tr>\n",
              "      <th>159506</th>\n",
              "      <td>해외 TA 방식과 또 다른 차이점으로는 국내의 경우에는 평가기술에 대한 과학적 지식...</td>\n",
              "      <td>국내는 평가기술에 대한 과학적 지식, 경제성 분석, 사회적 효과가 하나의 보고서 안...</td>\n",
              "    </tr>\n",
              "    <tr>\n",
              "      <th>159507</th>\n",
              "      <td>Cincera et al.(2013)의 연구도 동일하다. EU Industrial ...</td>\n",
              "      <td>경제위기 발생 이후 대기업의 R&amp;D 투자는 짧은 기간동안 소폭 감소하는데 그쳤으나,...</td>\n",
              "    </tr>\n",
              "  </tbody>\n",
              "</table>\n",
              "<p>159508 rows × 2 columns</p>\n",
              "</div>\n",
              "      <button class=\"colab-df-convert\" onclick=\"convertToInteractive('df-7673d60a-7df9-462c-8eb8-43bb057b0ce4')\"\n",
              "              title=\"Convert this dataframe to an interactive table.\"\n",
              "              style=\"display:none;\">\n",
              "        \n",
              "  <svg xmlns=\"http://www.w3.org/2000/svg\" height=\"24px\"viewBox=\"0 0 24 24\"\n",
              "       width=\"24px\">\n",
              "    <path d=\"M0 0h24v24H0V0z\" fill=\"none\"/>\n",
              "    <path d=\"M18.56 5.44l.94 2.06.94-2.06 2.06-.94-2.06-.94-.94-2.06-.94 2.06-2.06.94zm-11 1L8.5 8.5l.94-2.06 2.06-.94-2.06-.94L8.5 2.5l-.94 2.06-2.06.94zm10 10l.94 2.06.94-2.06 2.06-.94-2.06-.94-.94-2.06-.94 2.06-2.06.94z\"/><path d=\"M17.41 7.96l-1.37-1.37c-.4-.4-.92-.59-1.43-.59-.52 0-1.04.2-1.43.59L10.3 9.45l-7.72 7.72c-.78.78-.78 2.05 0 2.83L4 21.41c.39.39.9.59 1.41.59.51 0 1.02-.2 1.41-.59l7.78-7.78 2.81-2.81c.8-.78.8-2.07 0-2.86zM5.41 20L4 18.59l7.72-7.72 1.47 1.35L5.41 20z\"/>\n",
              "  </svg>\n",
              "      </button>\n",
              "      \n",
              "  <style>\n",
              "    .colab-df-container {\n",
              "      display:flex;\n",
              "      flex-wrap:wrap;\n",
              "      gap: 12px;\n",
              "    }\n",
              "\n",
              "    .colab-df-convert {\n",
              "      background-color: #E8F0FE;\n",
              "      border: none;\n",
              "      border-radius: 50%;\n",
              "      cursor: pointer;\n",
              "      display: none;\n",
              "      fill: #1967D2;\n",
              "      height: 32px;\n",
              "      padding: 0 0 0 0;\n",
              "      width: 32px;\n",
              "    }\n",
              "\n",
              "    .colab-df-convert:hover {\n",
              "      background-color: #E2EBFA;\n",
              "      box-shadow: 0px 1px 2px rgba(60, 64, 67, 0.3), 0px 1px 3px 1px rgba(60, 64, 67, 0.15);\n",
              "      fill: #174EA6;\n",
              "    }\n",
              "\n",
              "    [theme=dark] .colab-df-convert {\n",
              "      background-color: #3B4455;\n",
              "      fill: #D2E3FC;\n",
              "    }\n",
              "\n",
              "    [theme=dark] .colab-df-convert:hover {\n",
              "      background-color: #434B5C;\n",
              "      box-shadow: 0px 1px 3px 1px rgba(0, 0, 0, 0.15);\n",
              "      filter: drop-shadow(0px 1px 2px rgba(0, 0, 0, 0.3));\n",
              "      fill: #FFFFFF;\n",
              "    }\n",
              "  </style>\n",
              "\n",
              "      <script>\n",
              "        const buttonEl =\n",
              "          document.querySelector('#df-7673d60a-7df9-462c-8eb8-43bb057b0ce4 button.colab-df-convert');\n",
              "        buttonEl.style.display =\n",
              "          google.colab.kernel.accessAllowed ? 'block' : 'none';\n",
              "\n",
              "        async function convertToInteractive(key) {\n",
              "          const element = document.querySelector('#df-7673d60a-7df9-462c-8eb8-43bb057b0ce4');\n",
              "          const dataTable =\n",
              "            await google.colab.kernel.invokeFunction('convertToInteractive',\n",
              "                                                     [key], {});\n",
              "          if (!dataTable) return;\n",
              "\n",
              "          const docLinkHtml = 'Like what you see? Visit the ' +\n",
              "            '<a target=\"_blank\" href=https://colab.research.google.com/notebooks/data_table.ipynb>data table notebook</a>'\n",
              "            + ' to learn more about interactive tables.';\n",
              "          element.innerHTML = '';\n",
              "          dataTable['output_type'] = 'display_data';\n",
              "          await google.colab.output.renderOutput(dataTable, element);\n",
              "          const docLink = document.createElement('div');\n",
              "          docLink.innerHTML = docLinkHtml;\n",
              "          element.appendChild(docLink);\n",
              "        }\n",
              "      </script>\n",
              "    </div>\n",
              "  </div>\n",
              "  "
            ]
          },
          "metadata": {},
          "execution_count": 73
        }
      ],
      "source": [
        "train"
      ]
    },
    {
      "cell_type": "code",
      "execution_count": 74,
      "metadata": {
        "colab": {
          "base_uri": "https://localhost:8080/"
        },
        "id": "4vn705uiusYh",
        "outputId": "93a911a7-5273-49b8-fc3f-a59a9ae42fdb"
      },
      "outputs": [
        {
          "output_type": "stream",
          "name": "stdout",
          "text": [
            "Index(['document1', 'document2'], dtype='object')\n"
          ]
        }
      ],
      "source": [
        "train = train.rename(columns={'자신의 생각을 불명확하게 표현하는 사람들은 생각도 불명확할 가능성이 높다. 따라서 생각을 명료하게 정리하는 것이 명확한 글쓰기의 시작이다. 존 케네스 갈브레이드(John Kenneth Galbraith) 교수는 “아무리 복잡하고 어려운 주제라고 명쾌한 언어로 설명이 가능하다. 하지만 필자가 그 주제에 대해 완전히 이해하지 못하면 절대로 명확하게 쓸 수 없다.”고 했다. 명료한 글은 명료한 생각에서 나온다. 그렇지만 글을 고치다보면 생각도 명료하게 된다. 명료하게 쓰려면 내용을 단순화해야 한다. 많은 것을 전달하려는 욕심을 버리고 한두가지로 선택하고 거기 집중해야 한다. 앞에서 이야기한 간결성은 명확성에 도움이 된다. 명료함은 복잡한 설득기법을 사용하는 것보다 더 중요하다. 판사는 이해할 수 없는 사실관계 진술로는 설득되지 않는다. 설득기법이 명료함을 해치는 때에는 그 기법을 사용하지 않는다.': 'document1'})\n",
        "train = train.rename(columns={'주제가 아무리 복잡하고 어려울 지라도 필자가 주제에 대해 완벽하게 이해하고 있다면 명확한 글쓰기는 당연 가능하다. 명확한 글쓰기를 할 때 가장 중요한 점은 내용의 단순화 및 간결성이고 많은 것을 전달하려는 욕심을 버리는 것이다.': 'document2'})\n",
        "# 변경된 컬럼명 확인\n",
        "print(train.columns)\n"
      ]
    },
    {
      "cell_type": "code",
      "execution_count": 75,
      "metadata": {
        "colab": {
          "base_uri": "https://localhost:8080/",
          "height": 423
        },
        "id": "zehhJtkzv0qq",
        "outputId": "ccaf1e3e-f5df-4443-8b5f-565e845a7a55"
      },
      "outputs": [
        {
          "output_type": "execute_result",
          "data": {
            "text/plain": [
              "                                                document1  \\\n",
              "0       진로체험의 운영 역량을 강화하기 위하여 단위학교의 담당교사 외 에도 진로체험을 인솔...   \n",
              "1       매우 최근 의견에서, Mary Footer는 이 논쟁을 한발 더 진전시켰다. 그녀는...   \n",
              "2       에너지원별 소비 비중의 변화에서 눈에 띄는 것은 전력비중이 1981년에 비해 2배 ...   \n",
              "3       강원의 주류 기술지식 영역과 전략산업을 살펴보면 웰니스식품, 스포츠지식서비스, 의료...   \n",
              "4       그렇다면 실질과세를 적요하기 위해서도 페이퍼컴퍼니의 판단기준이 필요한데, 이는 주식...   \n",
              "...                                                   ...   \n",
              "159503  유기성 폐기물 에너지화 시설 확대의 속성별 MWTP를 추정한 결과는 <표 5>에 제...   \n",
              "159504  일반적으로 정비하천은 자연하천에 비해 댐이나 보 등의 영향으로 하천유량이 많고 유속...   \n",
              "159505  NCATS는 CTSA 사업 이외에도 임상으로의 중개를 위해 다양한 사업들을 진행하는...   \n",
              "159506  해외 TA 방식과 또 다른 차이점으로는 국내의 경우에는 평가기술에 대한 과학적 지식...   \n",
              "159507  Cincera et al.(2013)의 연구도 동일하다. EU Industrial ...   \n",
              "\n",
              "                                                document2  \n",
              "0       진로체험을 위해서 교사 외에도 인솔, 안전 등의 일용직 인력이 필요하다. 재정과 고...  \n",
              "1       Mary Footer는 최근에 WTO법의 모순을 해결하기 위해 다섯가지를 제안했다....  \n",
              "2       에너지원별 소비 비중 중 전력비중은 지속적으로 증가하였고, 이것은 원자력 발전 설비...  \n",
              "3       강원의 주류 기술지식과 전략산업에는 웰니스식품, 스포츠지식서비스, 의료기기, 바이오...  \n",
              "4       실질과세의 적용을 위해 페이퍼컴퍼니의 판단기준이 필요하다. 주식의 이동경위와 실질적...  \n",
              "...                                                   ...  \n",
              "159503  한정애안과 양창영안은 등록제를 제안하고, 장하나안과 유럽연합은 허가제·면허제를 도입...  \n",
              "159504  토지이용의 변화로 탄소가 풍부한 유출물 침전과 지표유출수 내 고형물 퇴적은 정비하천...  \n",
              "159505  NCATS는 이 외에도 여러 사업들을 진행하는데, 대부분이 공동연구이다. 약물 개발...  \n",
              "159506  국내는 평가기술에 대한 과학적 지식, 경제성 분석, 사회적 효과가 하나의 보고서 안...  \n",
              "159507  경제위기 발생 이후 대기업의 R&D 투자는 짧은 기간동안 소폭 감소하는데 그쳤으나,...  \n",
              "\n",
              "[159508 rows x 2 columns]"
            ],
            "text/html": [
              "\n",
              "  <div id=\"df-71f86a7e-b64c-418f-8410-f7ffdfdbb1fb\">\n",
              "    <div class=\"colab-df-container\">\n",
              "      <div>\n",
              "<style scoped>\n",
              "    .dataframe tbody tr th:only-of-type {\n",
              "        vertical-align: middle;\n",
              "    }\n",
              "\n",
              "    .dataframe tbody tr th {\n",
              "        vertical-align: top;\n",
              "    }\n",
              "\n",
              "    .dataframe thead th {\n",
              "        text-align: right;\n",
              "    }\n",
              "</style>\n",
              "<table border=\"1\" class=\"dataframe\">\n",
              "  <thead>\n",
              "    <tr style=\"text-align: right;\">\n",
              "      <th></th>\n",
              "      <th>document1</th>\n",
              "      <th>document2</th>\n",
              "    </tr>\n",
              "  </thead>\n",
              "  <tbody>\n",
              "    <tr>\n",
              "      <th>0</th>\n",
              "      <td>진로체험의 운영 역량을 강화하기 위하여 단위학교의 담당교사 외 에도 진로체험을 인솔...</td>\n",
              "      <td>진로체험을 위해서 교사 외에도 인솔, 안전 등의 일용직 인력이 필요하다. 재정과 고...</td>\n",
              "    </tr>\n",
              "    <tr>\n",
              "      <th>1</th>\n",
              "      <td>매우 최근 의견에서, Mary Footer는 이 논쟁을 한발 더 진전시켰다. 그녀는...</td>\n",
              "      <td>Mary Footer는 최근에 WTO법의 모순을 해결하기 위해 다섯가지를 제안했다....</td>\n",
              "    </tr>\n",
              "    <tr>\n",
              "      <th>2</th>\n",
              "      <td>에너지원별 소비 비중의 변화에서 눈에 띄는 것은 전력비중이 1981년에 비해 2배 ...</td>\n",
              "      <td>에너지원별 소비 비중 중 전력비중은 지속적으로 증가하였고, 이것은 원자력 발전 설비...</td>\n",
              "    </tr>\n",
              "    <tr>\n",
              "      <th>3</th>\n",
              "      <td>강원의 주류 기술지식 영역과 전략산업을 살펴보면 웰니스식품, 스포츠지식서비스, 의료...</td>\n",
              "      <td>강원의 주류 기술지식과 전략산업에는 웰니스식품, 스포츠지식서비스, 의료기기, 바이오...</td>\n",
              "    </tr>\n",
              "    <tr>\n",
              "      <th>4</th>\n",
              "      <td>그렇다면 실질과세를 적요하기 위해서도 페이퍼컴퍼니의 판단기준이 필요한데, 이는 주식...</td>\n",
              "      <td>실질과세의 적용을 위해 페이퍼컴퍼니의 판단기준이 필요하다. 주식의 이동경위와 실질적...</td>\n",
              "    </tr>\n",
              "    <tr>\n",
              "      <th>...</th>\n",
              "      <td>...</td>\n",
              "      <td>...</td>\n",
              "    </tr>\n",
              "    <tr>\n",
              "      <th>159503</th>\n",
              "      <td>유기성 폐기물 에너지화 시설 확대의 속성별 MWTP를 추정한 결과는 &lt;표 5&gt;에 제...</td>\n",
              "      <td>한정애안과 양창영안은 등록제를 제안하고, 장하나안과 유럽연합은 허가제·면허제를 도입...</td>\n",
              "    </tr>\n",
              "    <tr>\n",
              "      <th>159504</th>\n",
              "      <td>일반적으로 정비하천은 자연하천에 비해 댐이나 보 등의 영향으로 하천유량이 많고 유속...</td>\n",
              "      <td>토지이용의 변화로 탄소가 풍부한 유출물 침전과 지표유출수 내 고형물 퇴적은 정비하천...</td>\n",
              "    </tr>\n",
              "    <tr>\n",
              "      <th>159505</th>\n",
              "      <td>NCATS는 CTSA 사업 이외에도 임상으로의 중개를 위해 다양한 사업들을 진행하는...</td>\n",
              "      <td>NCATS는 이 외에도 여러 사업들을 진행하는데, 대부분이 공동연구이다. 약물 개발...</td>\n",
              "    </tr>\n",
              "    <tr>\n",
              "      <th>159506</th>\n",
              "      <td>해외 TA 방식과 또 다른 차이점으로는 국내의 경우에는 평가기술에 대한 과학적 지식...</td>\n",
              "      <td>국내는 평가기술에 대한 과학적 지식, 경제성 분석, 사회적 효과가 하나의 보고서 안...</td>\n",
              "    </tr>\n",
              "    <tr>\n",
              "      <th>159507</th>\n",
              "      <td>Cincera et al.(2013)의 연구도 동일하다. EU Industrial ...</td>\n",
              "      <td>경제위기 발생 이후 대기업의 R&amp;D 투자는 짧은 기간동안 소폭 감소하는데 그쳤으나,...</td>\n",
              "    </tr>\n",
              "  </tbody>\n",
              "</table>\n",
              "<p>159508 rows × 2 columns</p>\n",
              "</div>\n",
              "      <button class=\"colab-df-convert\" onclick=\"convertToInteractive('df-71f86a7e-b64c-418f-8410-f7ffdfdbb1fb')\"\n",
              "              title=\"Convert this dataframe to an interactive table.\"\n",
              "              style=\"display:none;\">\n",
              "        \n",
              "  <svg xmlns=\"http://www.w3.org/2000/svg\" height=\"24px\"viewBox=\"0 0 24 24\"\n",
              "       width=\"24px\">\n",
              "    <path d=\"M0 0h24v24H0V0z\" fill=\"none\"/>\n",
              "    <path d=\"M18.56 5.44l.94 2.06.94-2.06 2.06-.94-2.06-.94-.94-2.06-.94 2.06-2.06.94zm-11 1L8.5 8.5l.94-2.06 2.06-.94-2.06-.94L8.5 2.5l-.94 2.06-2.06.94zm10 10l.94 2.06.94-2.06 2.06-.94-2.06-.94-.94-2.06-.94 2.06-2.06.94z\"/><path d=\"M17.41 7.96l-1.37-1.37c-.4-.4-.92-.59-1.43-.59-.52 0-1.04.2-1.43.59L10.3 9.45l-7.72 7.72c-.78.78-.78 2.05 0 2.83L4 21.41c.39.39.9.59 1.41.59.51 0 1.02-.2 1.41-.59l7.78-7.78 2.81-2.81c.8-.78.8-2.07 0-2.86zM5.41 20L4 18.59l7.72-7.72 1.47 1.35L5.41 20z\"/>\n",
              "  </svg>\n",
              "      </button>\n",
              "      \n",
              "  <style>\n",
              "    .colab-df-container {\n",
              "      display:flex;\n",
              "      flex-wrap:wrap;\n",
              "      gap: 12px;\n",
              "    }\n",
              "\n",
              "    .colab-df-convert {\n",
              "      background-color: #E8F0FE;\n",
              "      border: none;\n",
              "      border-radius: 50%;\n",
              "      cursor: pointer;\n",
              "      display: none;\n",
              "      fill: #1967D2;\n",
              "      height: 32px;\n",
              "      padding: 0 0 0 0;\n",
              "      width: 32px;\n",
              "    }\n",
              "\n",
              "    .colab-df-convert:hover {\n",
              "      background-color: #E2EBFA;\n",
              "      box-shadow: 0px 1px 2px rgba(60, 64, 67, 0.3), 0px 1px 3px 1px rgba(60, 64, 67, 0.15);\n",
              "      fill: #174EA6;\n",
              "    }\n",
              "\n",
              "    [theme=dark] .colab-df-convert {\n",
              "      background-color: #3B4455;\n",
              "      fill: #D2E3FC;\n",
              "    }\n",
              "\n",
              "    [theme=dark] .colab-df-convert:hover {\n",
              "      background-color: #434B5C;\n",
              "      box-shadow: 0px 1px 3px 1px rgba(0, 0, 0, 0.15);\n",
              "      filter: drop-shadow(0px 1px 2px rgba(0, 0, 0, 0.3));\n",
              "      fill: #FFFFFF;\n",
              "    }\n",
              "  </style>\n",
              "\n",
              "      <script>\n",
              "        const buttonEl =\n",
              "          document.querySelector('#df-71f86a7e-b64c-418f-8410-f7ffdfdbb1fb button.colab-df-convert');\n",
              "        buttonEl.style.display =\n",
              "          google.colab.kernel.accessAllowed ? 'block' : 'none';\n",
              "\n",
              "        async function convertToInteractive(key) {\n",
              "          const element = document.querySelector('#df-71f86a7e-b64c-418f-8410-f7ffdfdbb1fb');\n",
              "          const dataTable =\n",
              "            await google.colab.kernel.invokeFunction('convertToInteractive',\n",
              "                                                     [key], {});\n",
              "          if (!dataTable) return;\n",
              "\n",
              "          const docLinkHtml = 'Like what you see? Visit the ' +\n",
              "            '<a target=\"_blank\" href=https://colab.research.google.com/notebooks/data_table.ipynb>data table notebook</a>'\n",
              "            + ' to learn more about interactive tables.';\n",
              "          element.innerHTML = '';\n",
              "          dataTable['output_type'] = 'display_data';\n",
              "          await google.colab.output.renderOutput(dataTable, element);\n",
              "          const docLink = document.createElement('div');\n",
              "          docLink.innerHTML = docLinkHtml;\n",
              "          element.appendChild(docLink);\n",
              "        }\n",
              "      </script>\n",
              "    </div>\n",
              "  </div>\n",
              "  "
            ]
          },
          "metadata": {},
          "execution_count": 75
        }
      ],
      "source": [
        "train"
      ]
    },
    {
      "cell_type": "code",
      "execution_count": 76,
      "metadata": {
        "colab": {
          "base_uri": "https://localhost:8080/"
        },
        "id": "f6oniJY6wQXe",
        "outputId": "e324e46d-30c1-4c2a-9657-4bc45771a9dc"
      },
      "outputs": [
        {
          "output_type": "stream",
          "name": "stdout",
          "text": [
            "                                                document1\n",
            "0       진로체험의 운영 역량을 강화하기 위하여 단위학교의 담당교사 외 에도 진로체험을 인솔...\n",
            "1       매우 최근 의견에서, Mary Footer는 이 논쟁을 한발 더 진전시켰다. 그녀는...\n",
            "2       에너지원별 소비 비중의 변화에서 눈에 띄는 것은 전력비중이 1981년에 비해 2배 ...\n",
            "3       강원의 주류 기술지식 영역과 전략산업을 살펴보면 웰니스식품, 스포츠지식서비스, 의료...\n",
            "4       그렇다면 실질과세를 적요하기 위해서도 페이퍼컴퍼니의 판단기준이 필요한데, 이는 주식...\n",
            "...                                                   ...\n",
            "159503  유기성 폐기물 에너지화 시설 확대의 속성별 MWTP를 추정한 결과는 <표 5>에 제...\n",
            "159504  일반적으로 정비하천은 자연하천에 비해 댐이나 보 등의 영향으로 하천유량이 많고 유속...\n",
            "159505  NCATS는 CTSA 사업 이외에도 임상으로의 중개를 위해 다양한 사업들을 진행하는...\n",
            "159506  해외 TA 방식과 또 다른 차이점으로는 국내의 경우에는 평가기술에 대한 과학적 지식...\n",
            "159507  Cincera et al.(2013)의 연구도 동일하다. EU Industrial ...\n",
            "\n",
            "[159508 rows x 1 columns]\n"
          ]
        }
      ],
      "source": [
        "# 두 열 합치기\n",
        "train['document1'] = train['document1'] + train['document2']\n",
        "train = train.drop(columns=['document2'])\n",
        "# 결과 확인\n",
        "print(train)"
      ]
    },
    {
      "cell_type": "code",
      "execution_count": 77,
      "metadata": {
        "colab": {
          "base_uri": "https://localhost:8080/",
          "height": 423
        },
        "id": "6WUE73UlwYTG",
        "outputId": "94aae5a8-5a7b-4aab-d120-c97ef2ef2dc0"
      },
      "outputs": [
        {
          "output_type": "execute_result",
          "data": {
            "text/plain": [
              "                                                document1\n",
              "0       진로체험의 운영 역량을 강화하기 위하여 단위학교의 담당교사 외 에도 진로체험을 인솔...\n",
              "1       매우 최근 의견에서, Mary Footer는 이 논쟁을 한발 더 진전시켰다. 그녀는...\n",
              "2       에너지원별 소비 비중의 변화에서 눈에 띄는 것은 전력비중이 1981년에 비해 2배 ...\n",
              "3       강원의 주류 기술지식 영역과 전략산업을 살펴보면 웰니스식품, 스포츠지식서비스, 의료...\n",
              "4       그렇다면 실질과세를 적요하기 위해서도 페이퍼컴퍼니의 판단기준이 필요한데, 이는 주식...\n",
              "...                                                   ...\n",
              "159503  유기성 폐기물 에너지화 시설 확대의 속성별 MWTP를 추정한 결과는 <표 5>에 제...\n",
              "159504  일반적으로 정비하천은 자연하천에 비해 댐이나 보 등의 영향으로 하천유량이 많고 유속...\n",
              "159505  NCATS는 CTSA 사업 이외에도 임상으로의 중개를 위해 다양한 사업들을 진행하는...\n",
              "159506  해외 TA 방식과 또 다른 차이점으로는 국내의 경우에는 평가기술에 대한 과학적 지식...\n",
              "159507  Cincera et al.(2013)의 연구도 동일하다. EU Industrial ...\n",
              "\n",
              "[159508 rows x 1 columns]"
            ],
            "text/html": [
              "\n",
              "  <div id=\"df-1179bc62-cf24-4a7f-b080-e7b5d34f1ff0\">\n",
              "    <div class=\"colab-df-container\">\n",
              "      <div>\n",
              "<style scoped>\n",
              "    .dataframe tbody tr th:only-of-type {\n",
              "        vertical-align: middle;\n",
              "    }\n",
              "\n",
              "    .dataframe tbody tr th {\n",
              "        vertical-align: top;\n",
              "    }\n",
              "\n",
              "    .dataframe thead th {\n",
              "        text-align: right;\n",
              "    }\n",
              "</style>\n",
              "<table border=\"1\" class=\"dataframe\">\n",
              "  <thead>\n",
              "    <tr style=\"text-align: right;\">\n",
              "      <th></th>\n",
              "      <th>document1</th>\n",
              "    </tr>\n",
              "  </thead>\n",
              "  <tbody>\n",
              "    <tr>\n",
              "      <th>0</th>\n",
              "      <td>진로체험의 운영 역량을 강화하기 위하여 단위학교의 담당교사 외 에도 진로체험을 인솔...</td>\n",
              "    </tr>\n",
              "    <tr>\n",
              "      <th>1</th>\n",
              "      <td>매우 최근 의견에서, Mary Footer는 이 논쟁을 한발 더 진전시켰다. 그녀는...</td>\n",
              "    </tr>\n",
              "    <tr>\n",
              "      <th>2</th>\n",
              "      <td>에너지원별 소비 비중의 변화에서 눈에 띄는 것은 전력비중이 1981년에 비해 2배 ...</td>\n",
              "    </tr>\n",
              "    <tr>\n",
              "      <th>3</th>\n",
              "      <td>강원의 주류 기술지식 영역과 전략산업을 살펴보면 웰니스식품, 스포츠지식서비스, 의료...</td>\n",
              "    </tr>\n",
              "    <tr>\n",
              "      <th>4</th>\n",
              "      <td>그렇다면 실질과세를 적요하기 위해서도 페이퍼컴퍼니의 판단기준이 필요한데, 이는 주식...</td>\n",
              "    </tr>\n",
              "    <tr>\n",
              "      <th>...</th>\n",
              "      <td>...</td>\n",
              "    </tr>\n",
              "    <tr>\n",
              "      <th>159503</th>\n",
              "      <td>유기성 폐기물 에너지화 시설 확대의 속성별 MWTP를 추정한 결과는 &lt;표 5&gt;에 제...</td>\n",
              "    </tr>\n",
              "    <tr>\n",
              "      <th>159504</th>\n",
              "      <td>일반적으로 정비하천은 자연하천에 비해 댐이나 보 등의 영향으로 하천유량이 많고 유속...</td>\n",
              "    </tr>\n",
              "    <tr>\n",
              "      <th>159505</th>\n",
              "      <td>NCATS는 CTSA 사업 이외에도 임상으로의 중개를 위해 다양한 사업들을 진행하는...</td>\n",
              "    </tr>\n",
              "    <tr>\n",
              "      <th>159506</th>\n",
              "      <td>해외 TA 방식과 또 다른 차이점으로는 국내의 경우에는 평가기술에 대한 과학적 지식...</td>\n",
              "    </tr>\n",
              "    <tr>\n",
              "      <th>159507</th>\n",
              "      <td>Cincera et al.(2013)의 연구도 동일하다. EU Industrial ...</td>\n",
              "    </tr>\n",
              "  </tbody>\n",
              "</table>\n",
              "<p>159508 rows × 1 columns</p>\n",
              "</div>\n",
              "      <button class=\"colab-df-convert\" onclick=\"convertToInteractive('df-1179bc62-cf24-4a7f-b080-e7b5d34f1ff0')\"\n",
              "              title=\"Convert this dataframe to an interactive table.\"\n",
              "              style=\"display:none;\">\n",
              "        \n",
              "  <svg xmlns=\"http://www.w3.org/2000/svg\" height=\"24px\"viewBox=\"0 0 24 24\"\n",
              "       width=\"24px\">\n",
              "    <path d=\"M0 0h24v24H0V0z\" fill=\"none\"/>\n",
              "    <path d=\"M18.56 5.44l.94 2.06.94-2.06 2.06-.94-2.06-.94-.94-2.06-.94 2.06-2.06.94zm-11 1L8.5 8.5l.94-2.06 2.06-.94-2.06-.94L8.5 2.5l-.94 2.06-2.06.94zm10 10l.94 2.06.94-2.06 2.06-.94-2.06-.94-.94-2.06-.94 2.06-2.06.94z\"/><path d=\"M17.41 7.96l-1.37-1.37c-.4-.4-.92-.59-1.43-.59-.52 0-1.04.2-1.43.59L10.3 9.45l-7.72 7.72c-.78.78-.78 2.05 0 2.83L4 21.41c.39.39.9.59 1.41.59.51 0 1.02-.2 1.41-.59l7.78-7.78 2.81-2.81c.8-.78.8-2.07 0-2.86zM5.41 20L4 18.59l7.72-7.72 1.47 1.35L5.41 20z\"/>\n",
              "  </svg>\n",
              "      </button>\n",
              "      \n",
              "  <style>\n",
              "    .colab-df-container {\n",
              "      display:flex;\n",
              "      flex-wrap:wrap;\n",
              "      gap: 12px;\n",
              "    }\n",
              "\n",
              "    .colab-df-convert {\n",
              "      background-color: #E8F0FE;\n",
              "      border: none;\n",
              "      border-radius: 50%;\n",
              "      cursor: pointer;\n",
              "      display: none;\n",
              "      fill: #1967D2;\n",
              "      height: 32px;\n",
              "      padding: 0 0 0 0;\n",
              "      width: 32px;\n",
              "    }\n",
              "\n",
              "    .colab-df-convert:hover {\n",
              "      background-color: #E2EBFA;\n",
              "      box-shadow: 0px 1px 2px rgba(60, 64, 67, 0.3), 0px 1px 3px 1px rgba(60, 64, 67, 0.15);\n",
              "      fill: #174EA6;\n",
              "    }\n",
              "\n",
              "    [theme=dark] .colab-df-convert {\n",
              "      background-color: #3B4455;\n",
              "      fill: #D2E3FC;\n",
              "    }\n",
              "\n",
              "    [theme=dark] .colab-df-convert:hover {\n",
              "      background-color: #434B5C;\n",
              "      box-shadow: 0px 1px 3px 1px rgba(0, 0, 0, 0.15);\n",
              "      filter: drop-shadow(0px 1px 2px rgba(0, 0, 0, 0.3));\n",
              "      fill: #FFFFFF;\n",
              "    }\n",
              "  </style>\n",
              "\n",
              "      <script>\n",
              "        const buttonEl =\n",
              "          document.querySelector('#df-1179bc62-cf24-4a7f-b080-e7b5d34f1ff0 button.colab-df-convert');\n",
              "        buttonEl.style.display =\n",
              "          google.colab.kernel.accessAllowed ? 'block' : 'none';\n",
              "\n",
              "        async function convertToInteractive(key) {\n",
              "          const element = document.querySelector('#df-1179bc62-cf24-4a7f-b080-e7b5d34f1ff0');\n",
              "          const dataTable =\n",
              "            await google.colab.kernel.invokeFunction('convertToInteractive',\n",
              "                                                     [key], {});\n",
              "          if (!dataTable) return;\n",
              "\n",
              "          const docLinkHtml = 'Like what you see? Visit the ' +\n",
              "            '<a target=\"_blank\" href=https://colab.research.google.com/notebooks/data_table.ipynb>data table notebook</a>'\n",
              "            + ' to learn more about interactive tables.';\n",
              "          element.innerHTML = '';\n",
              "          dataTable['output_type'] = 'display_data';\n",
              "          await google.colab.output.renderOutput(dataTable, element);\n",
              "          const docLink = document.createElement('div');\n",
              "          docLink.innerHTML = docLinkHtml;\n",
              "          element.appendChild(docLink);\n",
              "        }\n",
              "      </script>\n",
              "    </div>\n",
              "  </div>\n",
              "  "
            ]
          },
          "metadata": {},
          "execution_count": 77
        }
      ],
      "source": [
        "train"
      ]
    },
    {
      "cell_type": "code",
      "execution_count": 78,
      "metadata": {
        "colab": {
          "base_uri": "https://localhost:8080/"
        },
        "id": "JcXZeSM6wz0I",
        "outputId": "b211b719-e1c9-4abb-b45b-239af5c3d9e6"
      },
      "outputs": [
        {
          "output_type": "stream",
          "name": "stdout",
          "text": [
            "True\n"
          ]
        }
      ],
      "source": [
        "# 데이터셋에 결측값이 있는지 확인하기\n",
        "# new_df.isna().sum()\n",
        "\n",
        "# 다른방법 !\n",
        "train.replace('', float('NaN'), inplace=True)\n",
        "print(train.isnull().values.any()) # 값이 nan이 있으면 true / 없으면 false"
      ]
    },
    {
      "cell_type": "code",
      "execution_count": 79,
      "metadata": {
        "colab": {
          "base_uri": "https://localhost:8080/"
        },
        "id": "4b5_Nve0w79P",
        "outputId": "09c6dfef-118e-4ce3-a4f9-e35a3153f87e"
      },
      "outputs": [
        {
          "output_type": "execute_result",
          "data": {
            "text/plain": [
              "document1    3\n",
              "dtype: int64"
            ]
          },
          "metadata": {},
          "execution_count": 79
        }
      ],
      "source": [
        "train.isna().sum()"
      ]
    },
    {
      "cell_type": "code",
      "execution_count": 80,
      "metadata": {
        "colab": {
          "base_uri": "https://localhost:8080/"
        },
        "id": "7VaVdEpoxASs",
        "outputId": "1a153dda-c2d8-449c-c45d-06dd824b1655"
      },
      "outputs": [
        {
          "output_type": "stream",
          "name": "stdout",
          "text": [
            "필터링 된 데이터셋 총 개수: 159505\n"
          ]
        }
      ],
      "source": [
        "# 데이터셋의 결측값을 제거 후 데이터셋 총 개수\n",
        "train = train.dropna().reset_index(drop=True)\n",
        "print(f'필터링 된 데이터셋 총 개수: {len(train)}')"
      ]
    },
    {
      "cell_type": "code",
      "execution_count": 81,
      "metadata": {
        "id": "BYjBX-3zxDMC"
      },
      "outputs": [],
      "source": [
        "# 열을 기준으로 중복된 데이터를 제거\n",
        "train = train.drop_duplicates(subset=['document1']).reset_index(drop=True)"
      ]
    },
    {
      "cell_type": "code",
      "execution_count": 82,
      "metadata": {
        "colab": {
          "base_uri": "https://localhost:8080/"
        },
        "id": "aJwX4jvOxLmv",
        "outputId": "34d6b503-6ec7-487e-d0eb-7202006ff1d1"
      },
      "outputs": [
        {
          "output_type": "execute_result",
          "data": {
            "text/plain": [
              "417"
            ]
          },
          "metadata": {},
          "execution_count": 82
        }
      ],
      "source": [
        "len(train.iloc[0][0])"
      ]
    },
    {
      "cell_type": "code",
      "execution_count": 83,
      "metadata": {
        "id": "D4kCDTdRxayN"
      },
      "outputs": [],
      "source": [
        "# 데이터셋에 길이가 너무 짧은 단어를 제거(단어의 길이가 3이하)\n",
        "train['document1'] = train['document1'].apply(lambda x: ' '.join([token for token in x.split() if len(token) > 3]))"
      ]
    },
    {
      "cell_type": "code",
      "execution_count": 84,
      "metadata": {
        "id": "nezmYDy8x3Du"
      },
      "outputs": [],
      "source": [
        "train = train[train.document1.apply(lambda x: len(str(x)) > 200 and len (str(x).split()) > 5)].reset_index(drop=True)"
      ]
    },
    {
      "cell_type": "code",
      "execution_count": 85,
      "metadata": {
        "colab": {
          "base_uri": "https://localhost:8080/",
          "height": 423
        },
        "id": "j_lNLoTtx8ez",
        "outputId": "4427eed4-441c-4063-9e9a-b3ccf93d7df3"
      },
      "outputs": [
        {
          "output_type": "execute_result",
          "data": {
            "text/plain": [
              "                                                document1\n",
              "0       의견에서, Mary Footer는 진전시켰다. 비구속적 법률(soft law)로의 ...\n",
              "1       에너지원별 변화에서 전력비중이 1981년에 증가하였다는 것이다. 3.1%씩 1978...\n",
              "2       기술지식 전략산업을 살펴보면 웰니스식품, 스포츠지식서비스, 의료기기, 바이오활성소재...\n",
              "3       그렇다면 실질과세를 적요하기 위해서도 페이퍼컴퍼니의 판단기준이 필요한데, 이동경위와...\n",
              "4       운영체계의 문제점을 방안으로 갈등관리심의위원회의 공공기관에서는 갈등예방 갈등관리심의...\n",
              "...                                                   ...\n",
              "141240  에너지화 MWTP를 제시되어 MWTP는 추가적으로 개선하는 WTP를 의미한다. 자급...\n",
              "141241  일반적으로 정비하천은 자연하천에 영향으로 하천유량이 지표수-지하수 환원환경의 하상퇴...\n",
              "141242  NCATS는 CTSA 이외에도 임상으로의 사업들을 진행하는데, 대다수는 공동연구의 ...\n",
              "141243  차이점으로는 경우에는 평가기술에 포함되는 방식으로 수행되는 반하여, 해외에서는 점이...\n",
              "141244  Cincera al.(2013)의 동일하다. Industrial Investment...\n",
              "\n",
              "[141245 rows x 1 columns]"
            ],
            "text/html": [
              "\n",
              "  <div id=\"df-3f998776-2309-4081-9028-c58b79f507f6\">\n",
              "    <div class=\"colab-df-container\">\n",
              "      <div>\n",
              "<style scoped>\n",
              "    .dataframe tbody tr th:only-of-type {\n",
              "        vertical-align: middle;\n",
              "    }\n",
              "\n",
              "    .dataframe tbody tr th {\n",
              "        vertical-align: top;\n",
              "    }\n",
              "\n",
              "    .dataframe thead th {\n",
              "        text-align: right;\n",
              "    }\n",
              "</style>\n",
              "<table border=\"1\" class=\"dataframe\">\n",
              "  <thead>\n",
              "    <tr style=\"text-align: right;\">\n",
              "      <th></th>\n",
              "      <th>document1</th>\n",
              "    </tr>\n",
              "  </thead>\n",
              "  <tbody>\n",
              "    <tr>\n",
              "      <th>0</th>\n",
              "      <td>의견에서, Mary Footer는 진전시켰다. 비구속적 법률(soft law)로의 ...</td>\n",
              "    </tr>\n",
              "    <tr>\n",
              "      <th>1</th>\n",
              "      <td>에너지원별 변화에서 전력비중이 1981년에 증가하였다는 것이다. 3.1%씩 1978...</td>\n",
              "    </tr>\n",
              "    <tr>\n",
              "      <th>2</th>\n",
              "      <td>기술지식 전략산업을 살펴보면 웰니스식품, 스포츠지식서비스, 의료기기, 바이오활성소재...</td>\n",
              "    </tr>\n",
              "    <tr>\n",
              "      <th>3</th>\n",
              "      <td>그렇다면 실질과세를 적요하기 위해서도 페이퍼컴퍼니의 판단기준이 필요한데, 이동경위와...</td>\n",
              "    </tr>\n",
              "    <tr>\n",
              "      <th>4</th>\n",
              "      <td>운영체계의 문제점을 방안으로 갈등관리심의위원회의 공공기관에서는 갈등예방 갈등관리심의...</td>\n",
              "    </tr>\n",
              "    <tr>\n",
              "      <th>...</th>\n",
              "      <td>...</td>\n",
              "    </tr>\n",
              "    <tr>\n",
              "      <th>141240</th>\n",
              "      <td>에너지화 MWTP를 제시되어 MWTP는 추가적으로 개선하는 WTP를 의미한다. 자급...</td>\n",
              "    </tr>\n",
              "    <tr>\n",
              "      <th>141241</th>\n",
              "      <td>일반적으로 정비하천은 자연하천에 영향으로 하천유량이 지표수-지하수 환원환경의 하상퇴...</td>\n",
              "    </tr>\n",
              "    <tr>\n",
              "      <th>141242</th>\n",
              "      <td>NCATS는 CTSA 이외에도 임상으로의 사업들을 진행하는데, 대다수는 공동연구의 ...</td>\n",
              "    </tr>\n",
              "    <tr>\n",
              "      <th>141243</th>\n",
              "      <td>차이점으로는 경우에는 평가기술에 포함되는 방식으로 수행되는 반하여, 해외에서는 점이...</td>\n",
              "    </tr>\n",
              "    <tr>\n",
              "      <th>141244</th>\n",
              "      <td>Cincera al.(2013)의 동일하다. Industrial Investment...</td>\n",
              "    </tr>\n",
              "  </tbody>\n",
              "</table>\n",
              "<p>141245 rows × 1 columns</p>\n",
              "</div>\n",
              "      <button class=\"colab-df-convert\" onclick=\"convertToInteractive('df-3f998776-2309-4081-9028-c58b79f507f6')\"\n",
              "              title=\"Convert this dataframe to an interactive table.\"\n",
              "              style=\"display:none;\">\n",
              "        \n",
              "  <svg xmlns=\"http://www.w3.org/2000/svg\" height=\"24px\"viewBox=\"0 0 24 24\"\n",
              "       width=\"24px\">\n",
              "    <path d=\"M0 0h24v24H0V0z\" fill=\"none\"/>\n",
              "    <path d=\"M18.56 5.44l.94 2.06.94-2.06 2.06-.94-2.06-.94-.94-2.06-.94 2.06-2.06.94zm-11 1L8.5 8.5l.94-2.06 2.06-.94-2.06-.94L8.5 2.5l-.94 2.06-2.06.94zm10 10l.94 2.06.94-2.06 2.06-.94-2.06-.94-.94-2.06-.94 2.06-2.06.94z\"/><path d=\"M17.41 7.96l-1.37-1.37c-.4-.4-.92-.59-1.43-.59-.52 0-1.04.2-1.43.59L10.3 9.45l-7.72 7.72c-.78.78-.78 2.05 0 2.83L4 21.41c.39.39.9.59 1.41.59.51 0 1.02-.2 1.41-.59l7.78-7.78 2.81-2.81c.8-.78.8-2.07 0-2.86zM5.41 20L4 18.59l7.72-7.72 1.47 1.35L5.41 20z\"/>\n",
              "  </svg>\n",
              "      </button>\n",
              "      \n",
              "  <style>\n",
              "    .colab-df-container {\n",
              "      display:flex;\n",
              "      flex-wrap:wrap;\n",
              "      gap: 12px;\n",
              "    }\n",
              "\n",
              "    .colab-df-convert {\n",
              "      background-color: #E8F0FE;\n",
              "      border: none;\n",
              "      border-radius: 50%;\n",
              "      cursor: pointer;\n",
              "      display: none;\n",
              "      fill: #1967D2;\n",
              "      height: 32px;\n",
              "      padding: 0 0 0 0;\n",
              "      width: 32px;\n",
              "    }\n",
              "\n",
              "    .colab-df-convert:hover {\n",
              "      background-color: #E2EBFA;\n",
              "      box-shadow: 0px 1px 2px rgba(60, 64, 67, 0.3), 0px 1px 3px 1px rgba(60, 64, 67, 0.15);\n",
              "      fill: #174EA6;\n",
              "    }\n",
              "\n",
              "    [theme=dark] .colab-df-convert {\n",
              "      background-color: #3B4455;\n",
              "      fill: #D2E3FC;\n",
              "    }\n",
              "\n",
              "    [theme=dark] .colab-df-convert:hover {\n",
              "      background-color: #434B5C;\n",
              "      box-shadow: 0px 1px 3px 1px rgba(0, 0, 0, 0.15);\n",
              "      filter: drop-shadow(0px 1px 2px rgba(0, 0, 0, 0.3));\n",
              "      fill: #FFFFFF;\n",
              "    }\n",
              "  </style>\n",
              "\n",
              "      <script>\n",
              "        const buttonEl =\n",
              "          document.querySelector('#df-3f998776-2309-4081-9028-c58b79f507f6 button.colab-df-convert');\n",
              "        buttonEl.style.display =\n",
              "          google.colab.kernel.accessAllowed ? 'block' : 'none';\n",
              "\n",
              "        async function convertToInteractive(key) {\n",
              "          const element = document.querySelector('#df-3f998776-2309-4081-9028-c58b79f507f6');\n",
              "          const dataTable =\n",
              "            await google.colab.kernel.invokeFunction('convertToInteractive',\n",
              "                                                     [key], {});\n",
              "          if (!dataTable) return;\n",
              "\n",
              "          const docLinkHtml = 'Like what you see? Visit the ' +\n",
              "            '<a target=\"_blank\" href=https://colab.research.google.com/notebooks/data_table.ipynb>data table notebook</a>'\n",
              "            + ' to learn more about interactive tables.';\n",
              "          element.innerHTML = '';\n",
              "          dataTable['output_type'] = 'display_data';\n",
              "          await google.colab.output.renderOutput(dataTable, element);\n",
              "          const docLink = document.createElement('div');\n",
              "          docLink.innerHTML = docLinkHtml;\n",
              "          element.appendChild(docLink);\n",
              "        }\n",
              "      </script>\n",
              "    </div>\n",
              "  </div>\n",
              "  "
            ]
          },
          "metadata": {},
          "execution_count": 85
        }
      ],
      "source": [
        "train"
      ]
    },
    {
      "cell_type": "code",
      "source": [
        "train['document1'].str[0:]\n",
        "train['document1'] = train['document1'].str.replace(pat=r'[^\\w]', repl=r' ', regex=True)\n",
        "train['document1']"
      ],
      "metadata": {
        "colab": {
          "base_uri": "https://localhost:8080/"
        },
        "id": "F1_ZiFhNXoW6",
        "outputId": "cd5cbd69-ae80-4fa9-a65d-889a0be00d13"
      },
      "execution_count": 86,
      "outputs": [
        {
          "output_type": "execute_result",
          "data": {
            "text/plain": [
              "0         의견에서  Mary Footer는 진전시켰다  비구속적 법률 soft law 로의 ...\n",
              "1         에너지원별 변화에서 전력비중이 1981년에 증가하였다는 것이다  3 1 씩 1978...\n",
              "2         기술지식 전략산업을 살펴보면 웰니스식품  스포츠지식서비스  의료기기  바이오활성소재...\n",
              "3         그렇다면 실질과세를 적요하기 위해서도 페이퍼컴퍼니의 판단기준이 필요한데  이동경위와...\n",
              "4         운영체계의 문제점을 방안으로 갈등관리심의위원회의 공공기관에서는 갈등예방 갈등관리심의...\n",
              "                                ...                        \n",
              "141240    에너지화 MWTP를 제시되어 MWTP는 추가적으로 개선하는 WTP를 의미한다  자급...\n",
              "141241    일반적으로 정비하천은 자연하천에 영향으로 하천유량이 지표수 지하수 환원환경의 하상퇴...\n",
              "141242    NCATS는 CTSA 이외에도 임상으로의 사업들을 진행하는데  대다수는 공동연구의 ...\n",
              "141243    차이점으로는 경우에는 평가기술에 포함되는 방식으로 수행되는 반하여  해외에서는 점이...\n",
              "141244    Cincera al  2013 의 동일하다  Industrial Investment...\n",
              "Name: document1, Length: 141245, dtype: object"
            ]
          },
          "metadata": {},
          "execution_count": 86
        }
      ]
    },
    {
      "cell_type": "code",
      "execution_count": 87,
      "metadata": {
        "id": "OhxCE3FEyKAA"
      },
      "outputs": [],
      "source": [
        "# def remove_stopwords(text):\n",
        "#   tokens = text.split(' ')\n",
        "#   stops = ['수', '현', '있는', '있습니다', '그', '년도', '합니다', '하는', '및', '제', '할', '하고', '더'\n",
        "#   '대한', '한', '그리고', '월', '저는', '없는', '입니다', '등', '일', '많은', '이런', '것은', '왜', '같은',\n",
        "#            '같습니다', '없습니다', '위해', '한다']\n",
        "#   meaningful_words = [w for w in tokens if not w in stops]\n",
        "#   return ' '.join(meaningful_words)"
      ]
    },
    {
      "cell_type": "code",
      "execution_count": 88,
      "metadata": {
        "id": "5GyyudCd3PhX"
      },
      "outputs": [],
      "source": [
        "# train['document1'] = train['document1'].apply(remove_stopwords)"
      ]
    },
    {
      "cell_type": "code",
      "execution_count": 89,
      "metadata": {
        "id": "l7R1IESg30Ai"
      },
      "outputs": [],
      "source": [
        "# train"
      ]
    },
    {
      "cell_type": "code",
      "execution_count": 90,
      "metadata": {
        "id": "DcCcGpIh4EfG"
      },
      "outputs": [],
      "source": [
        "# tokenized_doc = train['document1'].apply(lambda x: x.split())\n",
        "# tokenized_doc = train['document1'].apply(lambda x: [s_word for s_word in x if s_word not in remove_stopwords(x)])\n",
        "\n",
        "\n",
        "# tokenized_doc"
      ]
    },
    {
      "cell_type": "code",
      "execution_count": 91,
      "metadata": {
        "id": "nSBJcSGFLNyY"
      },
      "outputs": [],
      "source": [
        "import nltk\n",
        "from nltk.corpus import stopwords"
      ]
    },
    {
      "cell_type": "code",
      "execution_count": 92,
      "metadata": {
        "id": "Wt5HsdhjEcQR"
      },
      "outputs": [],
      "source": [
        "nonword = '아 휴 아이구 아이쿠 아이고 어 나 우리 저희 따라 의해 을 를 에 의 가 일반적으로 그렇다면 의견에서 진전시켰다 것이다 이외에도 동일하다 으로 로 에게 뿐이다 의거하여 근거하여 입각하여 기준으로 예하면 예를 들면 예를 들자면 저 소인 소생 저희 지말고 하지마 하지마라 다른 물론 또한 그리고 비길수 없다 해서는 안된다 뿐만 아니라 만이 아니다 만은 아니다 막론하고 관계없이 그치지 않다 그러나 그런데 하지만 든간에 논하지 않다 따지지 않다 설사 비록 더라도 아니면 만 못하다 하는 편이 낫다 불문하고 향하여 향해서 향하다 쪽으로 틈타 이용하여 타다 오르다 제외하고 이 외에 이 밖에 하여야 비로소 한다면 몰라도 외에도 이곳 여기부터 기점으로 따라서 할 생각이다 하려고하다 이리하여 그리하여 그렇게 함으로써 하지만 일때 할때 앞에서 중에서 보는데서 으로써 로써 까지 해야한다 일것이다'\n",
        "nonword = nonword.split(' ')"
      ]
    },
    {
      "cell_type": "code",
      "source": [
        "tokenized_doc = train['document1'].apply(lambda x: x.split())\n",
        "tokenized_doc = tokenized_doc.apply(lambda x: [s_word for s_word in x if s_word not in nonword])\n",
        "tokenized_doc"
      ],
      "metadata": {
        "colab": {
          "base_uri": "https://localhost:8080/"
        },
        "id": "cvn6jPG-WyU_",
        "outputId": "c8da21cc-7108-483c-88e2-4a5664378dda"
      },
      "execution_count": 93,
      "outputs": [
        {
          "output_type": "execute_result",
          "data": {
            "text/plain": [
              "0         [Mary, Footer는, 비구속적, 법률, soft, law, 로의, WTO법의...\n",
              "1         [에너지원별, 변화에서, 전력비중이, 1981년에, 증가하였다는, 3, 1, 씩, ...\n",
              "2         [기술지식, 전략산업을, 살펴보면, 웰니스식품, 스포츠지식서비스, 의료기기, 바이오...\n",
              "3         [실질과세를, 적요하기, 위해서도, 페이퍼컴퍼니의, 판단기준이, 필요한데, 이동경위...\n",
              "4         [운영체계의, 문제점을, 방안으로, 갈등관리심의위원회의, 공공기관에서는, 갈등예방,...\n",
              "                                ...                        \n",
              "141240    [에너지화, MWTP를, 제시되어, MWTP는, 추가적으로, 개선하는, WTP를, ...\n",
              "141241    [정비하천은, 자연하천에, 영향으로, 하천유량이, 지표수, 지하수, 환원환경의, 하...\n",
              "141242    [NCATS는, CTSA, 임상으로의, 사업들을, 진행하는데, 대다수는, 공동연구의...\n",
              "141243    [차이점으로는, 경우에는, 평가기술에, 포함되는, 방식으로, 수행되는, 반하여, 해...\n",
              "141244    [Cincera, al, 2013, Industrial, Investment, Sc...\n",
              "Name: document1, Length: 141245, dtype: object"
            ]
          },
          "metadata": {},
          "execution_count": 93
        }
      ]
    },
    {
      "cell_type": "code",
      "source": [
        "tokenized_doc = tokenized_doc.to_list()\n",
        "print(len(tokenized_doc))"
      ],
      "metadata": {
        "colab": {
          "base_uri": "https://localhost:8080/"
        },
        "id": "xd-zfBq3W33d",
        "outputId": "2966fcb2-ebd1-4807-9082-85afc6589a84"
      },
      "execution_count": 94,
      "outputs": [
        {
          "output_type": "stream",
          "name": "stdout",
          "text": [
            "141245\n"
          ]
        }
      ]
    },
    {
      "cell_type": "code",
      "source": [
        "from tensorflow.keras.preprocessing.text import Tokenizer"
      ],
      "metadata": {
        "id": "0Fec12P5W6D8"
      },
      "execution_count": 95,
      "outputs": []
    },
    {
      "cell_type": "code",
      "source": [
        "tokenizer = Tokenizer()\n",
        "tokenizer.fit_on_texts(tokenized_doc)"
      ],
      "metadata": {
        "id": "YwuPZYgJXC-P"
      },
      "execution_count": 96,
      "outputs": []
    },
    {
      "cell_type": "code",
      "source": [
        "word2idx = tokenizer.word_index\n",
        "idx2word = {value: key for key, value in word2idx.items()}\n",
        "encoded = tokenizer.texts_to_sequences(tokenized_doc)\n"
      ],
      "metadata": {
        "id": "peNCmUfbXF8a"
      },
      "execution_count": 97,
      "outputs": []
    },
    {
      "cell_type": "code",
      "source": [
        "idx2word"
      ],
      "metadata": {
        "colab": {
          "base_uri": "https://localhost:8080/"
        },
        "id": "HvcfXEp8XCV_",
        "outputId": "0211c0b8-0007-40a6-b22e-e17c2be3b9c0"
      },
      "execution_count": 98,
      "outputs": [
        {
          "output_type": "execute_result",
          "data": {
            "text/plain": [
              "{1: '있다',\n",
              " 2: '1',\n",
              " 3: '필요하다',\n",
              " 4: '는',\n",
              " 5: '있으며',\n",
              " 6: '위해서는',\n",
              " 7: '나타났다',\n",
              " 8: '은',\n",
              " 9: '때문이다',\n",
              " 10: '2',\n",
              " 11: '3',\n",
              " 12: '대상으로',\n",
              " 13: '있었다',\n",
              " 14: '중심으로',\n",
              " 15: '한다',\n",
              " 16: '하였다',\n",
              " 17: '보인다',\n",
              " 18: '4',\n",
              " 19: '과',\n",
              " 20: '5',\n",
              " 21: '되었다',\n",
              " 22: '에서',\n",
              " 23: '0',\n",
              " 24: '경우에는',\n",
              " 25: '가능성이',\n",
              " 26: '과정에서',\n",
              " 27: '와',\n",
              " 28: '6',\n",
              " 29: '불구하고',\n",
              " 30: '상대적으로',\n",
              " 31: '대해서는',\n",
              " 32: '7',\n",
              " 33: '측면에서',\n",
              " 34: '있는데',\n",
              " 35: '지속적으로',\n",
              " 36: '바탕으로',\n",
              " 37: '우리나라',\n",
              " 38: '8',\n",
              " 39: '관련하여',\n",
              " 40: '2014년',\n",
              " 41: '9',\n",
              " 42: '살펴보면',\n",
              " 43: '프로그램',\n",
              " 44: '서비스를',\n",
              " 45: '우리나라의',\n",
              " 46: '2013년',\n",
              " 47: '구체적인',\n",
              " 48: '연구에서는',\n",
              " 49: '규정하고',\n",
              " 50: '않는다',\n",
              " 51: '관점에서',\n",
              " 52: '제공하는',\n",
              " 53: '2013',\n",
              " 54: '목적으로',\n",
              " 55: '적극적으로',\n",
              " 56: '2014',\n",
              " 57: '2015년',\n",
              " 58: '방식으로',\n",
              " 59: '차원에서',\n",
              " 60: '의미한다',\n",
              " 61: '라는',\n",
              " 62: '중요하다',\n",
              " 63: '않았다',\n",
              " 64: '프로그램을',\n",
              " 65: '2012',\n",
              " 66: '상황에서',\n",
              " 67: '어렵다',\n",
              " 68: '대부분의',\n",
              " 69: '2015',\n",
              " 70: '고려하여',\n",
              " 71: '2012년',\n",
              " 72: '발생하는',\n",
              " 73: '학생들의',\n",
              " 74: '구체적으로',\n",
              " 75: '10',\n",
              " 76: '이라는',\n",
              " 77: '있지만',\n",
              " 78: '있습니다',\n",
              " 79: '기반으로',\n",
              " 80: '점이다',\n",
              " 81: 'p',\n",
              " 82: '2011',\n",
              " 83: '있으므로',\n",
              " 84: '고',\n",
              " 85: '가능하다',\n",
              " 86: '2016년',\n",
              " 87: '긍정적인',\n",
              " 88: '연구에서',\n",
              " 89: '활용하여',\n",
              " 90: 'oecd',\n",
              " 91: '2010',\n",
              " 92: '교육과정',\n",
              " 93: '지원하는',\n",
              " 94: '것이라고',\n",
              " 95: '있으나',\n",
              " 96: '지속적인',\n",
              " 97: '이루어지고',\n",
              " 98: '2010년',\n",
              " 99: '대표적인',\n",
              " 100: '증가하고',\n",
              " 101: '제시하고',\n",
              " 102: '적극적인',\n",
              " 103: '가능성을',\n",
              " 104: '제공하고',\n",
              " 105: '라고',\n",
              " 106: '판단된다',\n",
              " 107: '2009',\n",
              " 108: '근로자의',\n",
              " 109: '보였다',\n",
              " 110: '이다',\n",
              " 111: '때문에',\n",
              " 112: '하더라도',\n",
              " 113: '마지막으로',\n",
              " 114: '청소년의',\n",
              " 115: '2011년',\n",
              " 116: '해당하는',\n",
              " 117: '나타나고',\n",
              " 118: '20',\n",
              " 119: '노동시장',\n",
              " 120: '네트워크',\n",
              " 121: '학생들이',\n",
              " 122: '우리나라는',\n",
              " 123: '경우에도',\n",
              " 124: '제시하였다',\n",
              " 125: '된다',\n",
              " 126: '필요성이',\n",
              " 127: '따르면',\n",
              " 128: '말한다',\n",
              " 129: '보여준다',\n",
              " 130: '방향으로',\n",
              " 131: '사용하는',\n",
              " 132: '이루어지는',\n",
              " 133: '것이라는',\n",
              " 134: '온실가스',\n",
              " 135: '마찬가지로',\n",
              " 136: '예상된다',\n",
              " 137: '상황이다',\n",
              " 138: '시스템을',\n",
              " 139: '부정적인',\n",
              " 140: '실질적인',\n",
              " 141: '다음으로',\n",
              " 142: '데이터를',\n",
              " 143: '추진하고',\n",
              " 144: '분야에서',\n",
              " 145: '존재한다',\n",
              " 146: '2016',\n",
              " 147: '2008년',\n",
              " 148: '참여하는',\n",
              " 149: '에서는',\n",
              " 150: '방법으로',\n",
              " 151: '2008',\n",
              " 152: '운영하고',\n",
              " 153: '수행하는',\n",
              " 154: '지역사회',\n",
              " 155: 'al',\n",
              " 156: '수준으로',\n",
              " 157: '차지하는',\n",
              " 158: '15',\n",
              " 159: '일반적인',\n",
              " 160: '2009년',\n",
              " 161: '효과적인',\n",
              " 162: '나타나는',\n",
              " 163: '요구된다',\n",
              " 164: '본',\n",
              " 165: '어려움을',\n",
              " 166: '2007',\n",
              " 167: '연구개발',\n",
              " 168: '나타난다',\n",
              " 169: '활용하는',\n",
              " 170: '30',\n",
              " 171: '실정이다',\n",
              " 172: '12',\n",
              " 173: '것이며',\n",
              " 174: '아동',\n",
              " 175: '필요성을',\n",
              " 176: 'r',\n",
              " 177: '어린이집',\n",
              " 178: '해결하기',\n",
              " 179: '이루어져야',\n",
              " 180: '운영하는',\n",
              " 181: '2017년',\n",
              " 182: '직접적인',\n",
              " 183: '없었다',\n",
              " 184: '11',\n",
              " 185: '효과적으로',\n",
              " 186: '구성되어',\n",
              " 187: '이루어진',\n",
              " 188: '필요하다고',\n",
              " 189: '높았다',\n",
              " 190: '존재하는',\n",
              " 191: '인식하고',\n",
              " 192: '1990년대',\n",
              " 193: '요인으로',\n",
              " 194: '대해서도',\n",
              " 195: '보았다',\n",
              " 196: '이루어지지',\n",
              " 197: '사회적',\n",
              " 198: '분석하였다',\n",
              " 199: '서비스의',\n",
              " 200: '프로그램의',\n",
              " 201: '그럼에도',\n",
              " 202: '증가하는',\n",
              " 203: '이라고',\n",
              " 204: '2006',\n",
              " 205: '그러므로',\n",
              " 206: '지원하고',\n",
              " 207: '프로젝트',\n",
              " 208: '이루어질',\n",
              " 209: '중',\n",
              " 210: '활성화를',\n",
              " 211: '기본적으로',\n",
              " 212: '유의미한',\n",
              " 213: '문제점을',\n",
              " 214: '2005',\n",
              " 215: '한',\n",
              " 216: '차지하고',\n",
              " 217: '고등학교',\n",
              " 218: '지금까지',\n",
              " 219: '구분하여',\n",
              " 220: '기본적인',\n",
              " 221: '사람들이',\n",
              " 222: '도',\n",
              " 223: '실질적으로',\n",
              " 224: '포함하는',\n",
              " 225: '중소기업',\n",
              " 226: '전통적인',\n",
              " 227: '실시하고',\n",
              " 228: '50',\n",
              " 229: '포함되어',\n",
              " 230: '영향력을',\n",
              " 231: '2000년대',\n",
              " 232: '25',\n",
              " 233: '체계적인',\n",
              " 234: '전반적인',\n",
              " 235: '중요성을',\n",
              " 236: '2000년',\n",
              " 237: '어려움이',\n",
              " 238: '요구하는',\n",
              " 239: '제공한다',\n",
              " 240: '지역에서',\n",
              " 241: '2007년',\n",
              " 242: '인',\n",
              " 243: '담당하는',\n",
              " 244: '예정이다',\n",
              " 245: '전반적으로',\n",
              " 246: '이용하는',\n",
              " 247: '최근에는',\n",
              " 248: '수준에서',\n",
              " 249: '무엇보다',\n",
              " 250: '일',\n",
              " 251: '보유하고',\n",
              " 252: '포함하여',\n",
              " 253: '중이다',\n",
              " 254: '교육',\n",
              " 255: '통계적으로',\n",
              " 256: '13',\n",
              " 257: '가능하게',\n",
              " 258: '효율적인',\n",
              " 259: '진행되고',\n",
              " 260: '청소년',\n",
              " 261: '초등학교',\n",
              " 262: '경쟁력을',\n",
              " 263: '체계적으로',\n",
              " 264: '2004',\n",
              " 265: '수행하고',\n",
              " 266: '계획이다',\n",
              " 267: '참조',\n",
              " 268: '필요하다는',\n",
              " 269: '이하',\n",
              " 270: '시작했다',\n",
              " 271: '있어서는',\n",
              " 272: '요구되는',\n",
              " 273: '14',\n",
              " 274: '고려해야',\n",
              " 275: '보여주고',\n",
              " 276: '애니메이션',\n",
              " 277: '것입니다',\n",
              " 278: '2018년',\n",
              " 279: '비정규직',\n",
              " 280: '필요하며',\n",
              " 281: '많았다',\n",
              " 282: '효율성을',\n",
              " 283: '강조하고',\n",
              " 284: '안정적인',\n",
              " 285: '증가하였다',\n",
              " 286: '지식재산',\n",
              " 287: '외',\n",
              " 288: '파악하고',\n",
              " 289: '결정하는',\n",
              " 290: '2005년',\n",
              " 291: '추진하는',\n",
              " 292: '보여주는',\n",
              " 293: '사회',\n",
              " 294: '분석하고',\n",
              " 295: '40',\n",
              " 296: '16',\n",
              " 297: '나타났으며',\n",
              " 298: '프로그램은',\n",
              " 299: '제시하는',\n",
              " 300: '시사점을',\n",
              " 301: '시장에서',\n",
              " 302: '입장에서',\n",
              " 303: '직접적으로',\n",
              " 304: '것으로',\n",
              " 305: '포함하고',\n",
              " 306: '맥락에서',\n",
              " 307: '시',\n",
              " 308: '이루어졌다',\n",
              " 309: '빅데이터',\n",
              " 310: '추구하는',\n",
              " 311: '평가하는',\n",
              " 312: '영역에서',\n",
              " 313: '않는다는',\n",
              " 314: '본격적으로',\n",
              " 315: '것이고',\n",
              " 316: '2000',\n",
              " 317: '같다',\n",
              " 318: '발생하고',\n",
              " 319: '가진다',\n",
              " 320: '것이었다',\n",
              " 321: '프로그램이',\n",
              " 322: '경제적',\n",
              " 323: '결과적으로',\n",
              " 324: '17',\n",
              " 325: '단계에서',\n",
              " 326: '강조하는',\n",
              " 327: '기업들이',\n",
              " 328: '효율적으로',\n",
              " 329: '우선적으로',\n",
              " 330: '추가적인',\n",
              " 331: '등',\n",
              " 332: '지속가능한',\n",
              " 333: '과학기술',\n",
              " 334: '하는데',\n",
              " 335: '2003',\n",
              " 336: '운영되고',\n",
              " 337: 'm',\n",
              " 338: '연구',\n",
              " 339: '밝혔다',\n",
              " 340: '높을수록',\n",
              " 341: '기후변화',\n",
              " 342: '하겠다',\n",
              " 343: '학생들은',\n",
              " 344: '설정하고',\n",
              " 345: '2002',\n",
              " 346: '주장한다',\n",
              " 347: '현실적으로',\n",
              " 348: '현장에서',\n",
              " 349: '종합적으로',\n",
              " 350: '분석하여',\n",
              " 351: '것이므로',\n",
              " 352: '상태에서',\n",
              " 353: '네트워크를',\n",
              " 354: '사용되는',\n",
              " 355: '다양하게',\n",
              " 356: '18',\n",
              " 357: '19',\n",
              " 358: '개념으로',\n",
              " 359: '합리적인',\n",
              " 360: '중요하게',\n",
              " 361: '못했다',\n",
              " 362: '관리하는',\n",
              " 363: '강화하고',\n",
              " 364: '일환으로',\n",
              " 365: '사용하여',\n",
              " 366: '강화하는',\n",
              " 367: '2006년',\n",
              " 368: '사실이다',\n",
              " 369: '수단으로',\n",
              " 370: '2017',\n",
              " 371: '실시하였다',\n",
              " 372: '의미하는',\n",
              " 373: '사용하고',\n",
              " 374: '유지하고',\n",
              " 375: '합니다',\n",
              " 376: '공동으로',\n",
              " 377: '일자리를',\n",
              " 378: '2001',\n",
              " 379: '시스템의',\n",
              " 380: '구성하는',\n",
              " 381: '전문성을',\n",
              " 382: '활용하고',\n",
              " 383: '학교에서',\n",
              " 384: '근로자가',\n",
              " 385: '동일하게',\n",
              " 386: '있어서도',\n",
              " 387: '중소기업의',\n",
              " 388: '반영하여',\n",
              " 389: '적용되는',\n",
              " 390: '법률',\n",
              " 391: '연계하여',\n",
              " 392: '다르다',\n",
              " 393: '생각된다',\n",
              " 394: 'the',\n",
              " 395: '교육과정을',\n",
              " 396: '갖는다',\n",
              " 397: '인정하는',\n",
              " 398: '사회경제적',\n",
              " 399: '왜냐하면',\n",
              " 400: '이해하고',\n",
              " 401: '1980년대',\n",
              " 402: '존재하지',\n",
              " 403: '표',\n",
              " 404: '모니터링',\n",
              " 405: '장기적인',\n",
              " 406: '근본적인',\n",
              " 407: '명확하게',\n",
              " 408: '살펴보았다',\n",
              " 409: '노동시장의',\n",
              " 410: '나타내는',\n",
              " 411: '것',\n",
              " 412: '개발하고',\n",
              " 413: '비교하여',\n",
              " 414: '적용하여',\n",
              " 415: '담당하고',\n",
              " 416: '마련하고',\n",
              " 417: '거버넌스',\n",
              " 418: 'a',\n",
              " 419: '기업들의',\n",
              " 420: '현재까지',\n",
              " 421: '실시하는',\n",
              " 422: '적용하는',\n",
              " 423: '해당한다',\n",
              " 424: '의하면',\n",
              " 425: '서비스',\n",
              " 426: '광범위한',\n",
              " 427: '서비스가',\n",
              " 428: '인공지능',\n",
              " 429: '편이다',\n",
              " 430: '2004년',\n",
              " 431: '21',\n",
              " 432: '내용으로',\n",
              " 433: '지나치게',\n",
              " 434: '구축하고',\n",
              " 435: '이루어진다',\n",
              " 436: '중요성이',\n",
              " 437: '이루어져',\n",
              " 438: '포함한다',\n",
              " 439: '60',\n",
              " 440: '경제',\n",
              " 441: '가능하도록',\n",
              " 442: '사용자의',\n",
              " 443: '분석하는',\n",
              " 444: '프로그램에',\n",
              " 445: '사회에서',\n",
              " 446: '있는지를',\n",
              " 447: '22',\n",
              " 448: '사람들의',\n",
              " 449: '포함된다',\n",
              " 450: '바람직한',\n",
              " 451: '진행하고',\n",
              " 452: '발생한다',\n",
              " 453: '인정하고',\n",
              " 454: '100',\n",
              " 455: '개인정보',\n",
              " 456: 's',\n",
              " 457: '생각한다',\n",
              " 458: '기업들은',\n",
              " 459: '시사한다',\n",
              " 460: '전체적으로',\n",
              " 461: '문제이다',\n",
              " 462: '70',\n",
              " 463: '영향력이',\n",
              " 464: '24',\n",
              " 465: '핵심적인',\n",
              " 466: '등이다',\n",
              " 467: '시작하였다',\n",
              " 468: '확대하고',\n",
              " 469: '달성하기',\n",
              " 470: '확보하기',\n",
              " 471: '주장하였다',\n",
              " 472: '비즈니스',\n",
              " 473: '참여하고',\n",
              " 474: '국가들의',\n",
              " 475: '입장에서는',\n",
              " 476: '제시한다',\n",
              " 477: '23',\n",
              " 478: '2001년',\n",
              " 479: '파악하기',\n",
              " 480: '수준이다',\n",
              " 481: '받았다',\n",
              " 482: '않는다고',\n",
              " 483: '높아지고',\n",
              " 484: '있었으며',\n",
              " 485: '사회적으로',\n",
              " 486: 'national',\n",
              " 487: '대응하기',\n",
              " 488: '노력하고',\n",
              " 489: '측면에서는',\n",
              " 490: '피해자의',\n",
              " 491: '2002년',\n",
              " 492: '교수',\n",
              " 493: '세계적으로',\n",
              " 494: '이후에는',\n",
              " 495: '자신들의',\n",
              " 496: '80',\n",
              " 497: '성공적인',\n",
              " 498: '파악하는',\n",
              " 499: '생각하는',\n",
              " 500: '성공적으로',\n",
              " 501: '규정하는',\n",
              " 502: '기대된다',\n",
              " 503: '그림',\n",
              " 504: '프로젝트를',\n",
              " 505: '국가에서',\n",
              " 506: '2003년',\n",
              " 507: '소비자의',\n",
              " 508: '원칙적으로',\n",
              " 509: '시스템이',\n",
              " 510: '판단하는',\n",
              " 511: '활발하게',\n",
              " 512: '있음에도',\n",
              " 513: '지원하기',\n",
              " 514: '바람직하다',\n",
              " 515: '공공기관',\n",
              " 516: '마련하는',\n",
              " 517: '사람들은',\n",
              " 518: '어렵다는',\n",
              " 519: '국제사회의',\n",
              " 520: '시행하고',\n",
              " 521: '사회주의',\n",
              " 522: '받는다',\n",
              " 523: '27',\n",
              " 524: '평가하고',\n",
              " 525: '이르기까지',\n",
              " 526: '이라',\n",
              " 527: '28',\n",
              " 528: '에는',\n",
              " 529: '긍정적으로',\n",
              " 530: '반영하는',\n",
              " 531: '전망이다',\n",
              " 532: 'd',\n",
              " 533: '대법원은',\n",
              " 534: '26',\n",
              " 535: '청소년들의',\n",
              " 536: '사업으로',\n",
              " 537: '교육과정의',\n",
              " 538: '청소년을',\n",
              " 539: '전망된다',\n",
              " 540: '국내에서',\n",
              " 541: '자유로운',\n",
              " 542: '확대되고',\n",
              " 543: '확보하고',\n",
              " 544: '상관없이',\n",
              " 545: '최소한의',\n",
              " 546: '연구들은',\n",
              " 547: '처음으로',\n",
              " 548: '인식하는',\n",
              " 549: '유지하는',\n",
              " 550: '이란',\n",
              " 551: '대응하는',\n",
              " 552: '감소하는',\n",
              " 553: '초',\n",
              " 554: '최저임금',\n",
              " 555: '없으며',\n",
              " 556: '자유롭게',\n",
              " 557: '소프트웨어',\n",
              " 558: '이상으로',\n",
              " 559: '보장하는',\n",
              " 560: '학생들에게',\n",
              " 561: '신재생에너지',\n",
              " 562: '청소년이',\n",
              " 563: '원인으로',\n",
              " 564: '주장하는',\n",
              " 565: '자연스럽게',\n",
              " 566: '보다',\n",
              " 567: '정의하고',\n",
              " 568: '명시하고',\n",
              " 569: '궁극적으로',\n",
              " 570: '전체적인',\n",
              " 571: '해결하는',\n",
              " 572: '대한민국',\n",
              " 573: '의사결정',\n",
              " 574: '미국',\n",
              " 575: '제기되고',\n",
              " 576: '확대하는',\n",
              " 577: '고려하지',\n",
              " 578: '가능성도',\n",
              " 579: '중에서도',\n",
              " 580: '현재',\n",
              " 581: '국가들은',\n",
              " 582: '대부분이',\n",
              " 583: '감소하고',\n",
              " 584: '장기적으로',\n",
              " 585: '미친다',\n",
              " 586: '가능성은',\n",
              " 587: '구축하는',\n",
              " 588: '스마트폰',\n",
              " 589: '포괄적인',\n",
              " 590: '개발하여',\n",
              " 591: '않으며',\n",
              " 592: '29',\n",
              " 593: '사용자가',\n",
              " 594: '정확하게',\n",
              " 595: '35',\n",
              " 596: '있었고',\n",
              " 597: '문제점이',\n",
              " 598: '대통령은',\n",
              " 599: '이해하는',\n",
              " 600: '마련해야',\n",
              " 601: '아직까지',\n",
              " 602: '지원한다',\n",
              " 603: '경우',\n",
              " 604: '고려하면',\n",
              " 605: '진행되었다',\n",
              " 606: '31',\n",
              " 607: '확인되었다',\n",
              " 608: '공통적으로',\n",
              " 609: '활용되고',\n",
              " 610: '증가하여',\n",
              " 611: '정책으로',\n",
              " 612: '본격적인',\n",
              " 613: '부합하는',\n",
              " 614: '것으로서',\n",
              " 615: '관리',\n",
              " 616: '예상되는',\n",
              " 617: '확보하는',\n",
              " 618: '1998년',\n",
              " 619: '국민들의',\n",
              " 620: '기술',\n",
              " 621: '비롯하여',\n",
              " 622: '의미에서',\n",
              " 623: '학업중단',\n",
              " 624: '프랑스의',\n",
              " 625: '지자체의',\n",
              " 626: '부여하는',\n",
              " 627: '근로자를',\n",
              " 628: '근로시간',\n",
              " 629: '필요성에',\n",
              " 630: '방안으로',\n",
              " 631: '국가',\n",
              " 632: '1999',\n",
              " 633: '거주하는',\n",
              " 634: '극복하기',\n",
              " 635: '시점에서',\n",
              " 636: '진행하는',\n",
              " 637: '요구하고',\n",
              " 638: '조사되었다',\n",
              " 639: '동아시아',\n",
              " 640: '1970년대',\n",
              " 641: '노동자의',\n",
              " 642: '한국에서',\n",
              " 643: '이나',\n",
              " 644: '만들어진',\n",
              " 645: '현실적인',\n",
              " 646: '낮았다',\n",
              " 647: '대통령의',\n",
              " 648: '개발하는',\n",
              " 649: 'e',\n",
              " 650: '예',\n",
              " 651: '이어지는',\n",
              " 652: '규정되어',\n",
              " 653: '인정되는',\n",
              " 654: '종합적인',\n",
              " 655: '러시아의',\n",
              " 656: '무엇보다도',\n",
              " 657: '살펴보고',\n",
              " 658: '지역사회의',\n",
              " 659: '정치',\n",
              " 660: '장애인의',\n",
              " 661: '이며',\n",
              " 662: '한반도의',\n",
              " 663: '수립하고',\n",
              " 664: '확인하였다',\n",
              " 665: '교사들이',\n",
              " 666: '구분된다',\n",
              " 667: '관리하고',\n",
              " 668: '주민들의',\n",
              " 669: '중국',\n",
              " 670: '분석되었다',\n",
              " 671: '청소년들이',\n",
              " 672: '우리나라에서',\n",
              " 673: '안정적으로',\n",
              " 674: '수행한다',\n",
              " 675: '지방자치단체의',\n",
              " 676: '영역으로',\n",
              " 677: '이후에도',\n",
              " 678: '검토하고',\n",
              " 679: '데이터의',\n",
              " 680: '사건에서',\n",
              " 681: '기초하여',\n",
              " 682: '관련해서는',\n",
              " 683: '추가적으로',\n",
              " 684: '서비스는',\n",
              " 685: '여기에는',\n",
              " 686: '제외하고는',\n",
              " 687: '있었으나',\n",
              " 688: '확인하고',\n",
              " 689: '서비스에',\n",
              " 690: '가정',\n",
              " 691: '구축하여',\n",
              " 692: '구성하여',\n",
              " 693: '못한다',\n",
              " 694: '스트레스',\n",
              " 695: '관계에서',\n",
              " 696: '보고서를',\n",
              " 697: '국가들이',\n",
              " 698: '아니라는',\n",
              " 699: '독립적인',\n",
              " 700: '학습',\n",
              " 701: '지방자치단체',\n",
              " 702: '90',\n",
              " 703: '1999년',\n",
              " 704: '진행되는',\n",
              " 705: '강조하였다',\n",
              " 706: '1997년',\n",
              " 707: '중요하다고',\n",
              " 708: '일이다',\n",
              " 709: '1990년',\n",
              " 710: '문화',\n",
              " 711: '대부분은',\n",
              " 712: '평가된다',\n",
              " 713: '증가했다',\n",
              " 714: '개발',\n",
              " 715: '33',\n",
              " 716: '불가능한',\n",
              " 717: '방지하기',\n",
              " 718: '개선하기',\n",
              " 719: '설명하고',\n",
              " 720: '1998',\n",
              " 721: '제공되는',\n",
              " 722: '사용되고',\n",
              " 723: '측정하는',\n",
              " 724: '교사들은',\n",
              " 725: '객관적인',\n",
              " 726: '소요되는',\n",
              " 727: '제공하기',\n",
              " 728: '2020년',\n",
              " 729: '구성하고',\n",
              " 730: '제안하였다',\n",
              " 731: '한국',\n",
              " 732: '사용하였다',\n",
              " 733: '교사들의',\n",
              " 734: '한편으로는',\n",
              " 735: '구성된다',\n",
              " 736: '도입하여',\n",
              " 737: '교육훈련',\n",
              " 738: '지향하는',\n",
              " 739: '추정된다',\n",
              " 740: '보건의료',\n",
              " 741: '전문적인',\n",
              " 742: '보호하기',\n",
              " 743: '콘텐츠를',\n",
              " 744: '간접적으로',\n",
              " 745: '강조한다',\n",
              " 746: '고려하는',\n",
              " 747: '제시했다',\n",
              " 748: '부족하다',\n",
              " 749: '노동조합',\n",
              " 750: '문화예술',\n",
              " 751: '확인하는',\n",
              " 752: '있었지만',\n",
              " 753: '사이에서',\n",
              " 754: '시작으로',\n",
              " 755: '변화하는',\n",
              " 756: '추진되고',\n",
              " 757: '제한하는',\n",
              " 758: '아니라고',\n",
              " 759: '세계적인',\n",
              " 760: '학생들을',\n",
              " 761: '미국에서',\n",
              " 762: '근로자는',\n",
              " 763: '대통령이',\n",
              " 764: '에너지',\n",
              " 765: '아니지만',\n",
              " 766: '존재하고',\n",
              " 767: '주장했다',\n",
              " 768: '공공기관의',\n",
              " 769: '설명하는',\n",
              " 770: '진행하였다',\n",
              " 771: '보고서는',\n",
              " 772: '공유하고',\n",
              " 773: '32',\n",
              " 774: '있는지에',\n",
              " 775: '참여하여',\n",
              " 776: '했다',\n",
              " 777: '최근',\n",
              " 778: 'health',\n",
              " 779: '당사자의',\n",
              " 780: '산업단지',\n",
              " 781: '국내',\n",
              " 782: '유사하게',\n",
              " 783: '보호하는',\n",
              " 784: '그렇지만',\n",
              " 785: '나타내고',\n",
              " 786: '발표하였다',\n",
              " 787: '반영하고',\n",
              " 788: '1997',\n",
              " 789: '시작되었다',\n",
              " 790: '적절하게',\n",
              " 791: '필수적인',\n",
              " 792: '형사소송법',\n",
              " 793: '되었고',\n",
              " 794: '없으므로',\n",
              " 795: '판단하였다',\n",
              " 796: '대하여는',\n",
              " 797: '나타났고',\n",
              " 798: '부족으로',\n",
              " 799: '하였으며',\n",
              " 800: '제조업의',\n",
              " 801: '36',\n",
              " 802: '001',\n",
              " 803: '감안하여',\n",
              " 804: '국제적인',\n",
              " 805: '학교',\n",
              " 806: '피고인의',\n",
              " 807: '만족도가',\n",
              " 808: '근로자들의',\n",
              " 809: '자체적으로',\n",
              " 810: '37',\n",
              " 811: '분석한다',\n",
              " 812: 'social',\n",
              " 813: '실효성을',\n",
              " 814: '학업성취도',\n",
              " 815: '정부에서',\n",
              " 816: '최종적으로',\n",
              " 817: '지역',\n",
              " 818: '고등교육',\n",
              " 819: '45',\n",
              " 820: '구분하고',\n",
              " 821: '클러스터',\n",
              " 822: '법',\n",
              " 823: '지원',\n",
              " 824: '감소하였다',\n",
              " 825: '살펴보고자',\n",
              " 826: '유도하는',\n",
              " 827: '주도하는',\n",
              " 828: '시스템은',\n",
              " 829: '의사소통',\n",
              " 830: '형식으로',\n",
              " 831: 'system',\n",
              " 832: '형성하고',\n",
              " 833: '독자적인',\n",
              " 834: '설문조사',\n",
              " 835: '평가',\n",
              " 836: '지역으로',\n",
              " 837: '근본적으로',\n",
              " 838: '기준',\n",
              " 839: '저소득층',\n",
              " 840: '기관에서',\n",
              " 841: '방법이다',\n",
              " 842: '였다',\n",
              " 843: '불과하다',\n",
              " 844: '상호작용을',\n",
              " 845: 'b',\n",
              " 846: '발생하지',\n",
              " 847: '사업',\n",
              " 848: '결과이다',\n",
              " 849: '상태이다',\n",
              " 850: '조사',\n",
              " 851: '것인데',\n",
              " 852: '포괄하는',\n",
              " 853: '작용하고',\n",
              " 854: '의미하며',\n",
              " 855: '적용하고',\n",
              " 856: '대안으로',\n",
              " 857: '만들었다',\n",
              " 858: '이용자의',\n",
              " 859: '지닌다',\n",
              " 860: '38',\n",
              " 861: '못하였다',\n",
              " 862: '기업',\n",
              " 863: '본다',\n",
              " 864: '피해자가',\n",
              " 865: '연구들이',\n",
              " 866: '구성원의',\n",
              " 867: '자율성을',\n",
              " 868: '34',\n",
              " 869: '지적하고',\n",
              " 870: '여기에서',\n",
              " 871: '육아휴직',\n",
              " 872: '공유하는',\n",
              " 873: '정치적',\n",
              " 874: '민주주의',\n",
              " 875: '가능하며',\n",
              " 876: '원칙으로',\n",
              " 877: '일본',\n",
              " 878: '효과성을',\n",
              " 879: '늘어나고',\n",
              " 880: 'international',\n",
              " 881: 'development',\n",
              " 882: '파악하여',\n",
              " 883: '실시하여',\n",
              " 884: '유형으로',\n",
              " 885: '제1항',\n",
              " 886: '공무원의',\n",
              " 887: '필수적이다',\n",
              " 888: '집중되어',\n",
              " 889: '공식적인',\n",
              " 890: '1995년',\n",
              " 891: '되는데',\n",
              " 892: '오랫동안',\n",
              " 893: '나타낸다',\n",
              " 894: '무엇인지',\n",
              " 895: '기술개발',\n",
              " 896: '2018',\n",
              " 897: '일어나는',\n",
              " 898: '초기에는',\n",
              " 899: '필요하고',\n",
              " 900: '이상',\n",
              " 901: '또는',\n",
              " 902: '일자리의',\n",
              " 903: '환경에서',\n",
              " 904: '재생에너지',\n",
              " 905: 'c',\n",
              " 906: '산업혁명',\n",
              " 907: '마련되어야',\n",
              " 908: '시나리오',\n",
              " 909: '경제적인',\n",
              " 910: '가능하다는',\n",
              " 911: '선정하여',\n",
              " 912: '플랫폼을',\n",
              " 913: '설문조사를',\n",
              " 914: '영향으로',\n",
              " 915: '보건복지부',\n",
              " 916: '이야기를',\n",
              " 917: 'f',\n",
              " 918: '시스템',\n",
              " 919: '유지하기',\n",
              " 920: 'act',\n",
              " 921: '재인용',\n",
              " 922: '수행하기',\n",
              " 923: '변화하고',\n",
              " 924: '우선순위를',\n",
              " 925: '프랑스',\n",
              " 926: '마련하여',\n",
              " 927: '보장하기',\n",
              " 928: '대표하는',\n",
              " 929: '2019년',\n",
              " 930: '가능성에',\n",
              " 931: '필요함을',\n",
              " 932: '방식이다',\n",
              " 933: '이해하기',\n",
              " 934: '것인지에',\n",
              " 935: '시행하는',\n",
              " 936: '전문가의',\n",
              " 937: '응답자의',\n",
              " 938: '시행되고',\n",
              " 939: '1996',\n",
              " 940: '예컨대',\n",
              " 941: '불필요한',\n",
              " 942: '교육과정에',\n",
              " 943: '기여하는',\n",
              " 944: '법적으로',\n",
              " 945: '제공하여',\n",
              " 946: '선호하는',\n",
              " 947: '추세이다',\n",
              " 948: '41',\n",
              " 949: '부여하고',\n",
              " 950: '있겠다',\n",
              " 951: '종사하는',\n",
              " 952: '적용된다',\n",
              " 953: '자유학기제',\n",
              " 954: '경제활동',\n",
              " 955: '연결되어',\n",
              " 956: '되었으며',\n",
              " 957: '경험하는',\n",
              " 958: '원',\n",
              " 959: '대기업의',\n",
              " 960: '운영되는',\n",
              " 961: '교육부',\n",
              " 962: '있었는데',\n",
              " 963: '수행하였다',\n",
              " 964: '다섯째',\n",
              " 965: '현실이다',\n",
              " 966: '상호작용',\n",
              " 967: '아이디어를',\n",
              " 968: '타당성을',\n",
              " 969: '직업교육',\n",
              " 970: '고려되어야',\n",
              " 971: '사물인터넷',\n",
              " 972: '자발적으로',\n",
              " 973: '000',\n",
              " 974: '부분적으로',\n",
              " 975: '설정하였다',\n",
              " 976: '활동으로',\n",
              " 977: 'k',\n",
              " 978: '인센티브',\n",
              " 979: '정부',\n",
              " 980: '우리나라가',\n",
              " 981: '인프라를',\n",
              " 982: '끊임없이',\n",
              " 983: '형성하는',\n",
              " 984: '강화하기',\n",
              " 985: '건강보험',\n",
              " 986: '사회복지',\n",
              " 987: '보장하고',\n",
              " 988: '1995',\n",
              " 989: '경우에만',\n",
              " 990: '전형적인',\n",
              " 991: '유치원과',\n",
              " 992: '분석',\n",
              " 993: '단계에서는',\n",
              " 994: '하나이다',\n",
              " 995: '지역별로',\n",
              " 996: '과정으로',\n",
              " 997: 'education',\n",
              " 998: '나타나지',\n",
              " 999: '천연가스',\n",
              " 1000: '주',\n",
              " ...}"
            ]
          },
          "metadata": {},
          "execution_count": 98
        }
      ]
    },
    {
      "cell_type": "code",
      "source": [
        "print(encoded[0]) # 단어 인덱싱 되어서 리스트함에 들어있는걸 보여줌"
      ],
      "metadata": {
        "colab": {
          "base_uri": "https://localhost:8080/"
        },
        "id": "1gV20oNIXNsM",
        "outputId": "836b5b72-e2a8-4973-ccf4-febd95520177"
      },
      "execution_count": 99,
      "outputs": [
        {
          "output_type": "stream",
          "name": "stdout",
          "text": [
            "[75481, 338147, 75482, 390, 14246, 2987, 10235, 162302, 162303, 178, 369, 70080, 89017, 338148, 139174, 3778, 560746, 43, 1995, 97829, 5352, 19, 1367, 75482, 390, 14246, 2987, 29726, 162302, 139175, 178, 32724, 560747, 14246, 880, 2987, 560748, 75482, 8698, 1766, 2811, 247545, 162302, 338149, 44730, 30637, 14955, 560749, 81692, 560750, 2987, 8, 560751, 52, 162304, 75482, 390, 560752, 14246, 2987, 338150, 10593, 247546, 108412, 338151, 1, 75481, 338147, 162302, 178, 139176, 2094, 2811, 247545, 162302, 338149, 44730, 8, 899, 162304, 75482, 390, 10593, 247546, 108412, 338151]\n"
          ]
        }
      ]
    },
    {
      "cell_type": "code",
      "source": [
        "vocab_size = len(word2idx) + 1\n",
        "print(f'단어 사전의 크기: {vocab_size}')"
      ],
      "metadata": {
        "colab": {
          "base_uri": "https://localhost:8080/"
        },
        "id": "HwtNFd6-XME8",
        "outputId": "9b80ce1f-4ce2-483e-d07e-a395f5352b3e"
      },
      "execution_count": 100,
      "outputs": [
        {
          "output_type": "stream",
          "name": "stdout",
          "text": [
            "단어 사전의 크기: 1318213\n"
          ]
        }
      ]
    },
    {
      "cell_type": "code",
      "source": [
        "# 네거티브 샘플링을 위해 keras에서 제공하는 전처리 도구 skipgrams 사용\n",
        "from tensorflow.keras.preprocessing.sequence import skipgrams"
      ],
      "metadata": {
        "id": "XmwI2fzKXRZR"
      },
      "execution_count": 101,
      "outputs": []
    },
    {
      "cell_type": "code",
      "source": [
        "skip_grams = [skipgrams(sample, vocabulary_size=vocab_size, window_size=10) for sample in encoded[:20]] # 20개를 뽑음, 0~19\n",
        "print(f'전채 샘플 수 : {len(skip_grams)}')"
      ],
      "metadata": {
        "colab": {
          "base_uri": "https://localhost:8080/"
        },
        "id": "zh6CmS3kXRwK",
        "outputId": "09603a39-1133-4ecd-d9fc-6eface7f10fc"
      },
      "execution_count": 102,
      "outputs": [
        {
          "output_type": "stream",
          "name": "stdout",
          "text": [
            "전채 샘플 수 : 20\n"
          ]
        }
      ]
    },
    {
      "cell_type": "code",
      "source": [
        "# skip_grams[0]에 skipgrams 로 형성된 데이터셋 확인\n",
        "pairs, labels = skip_grams[0][0], skip_grams[0][1]\n",
        "print(f'20 pairs: {pairs[:20]}') # 3개만 가져옴\n",
        "print(f'20 labels: {labels[:20]}') # 3개만 가져옴"
      ],
      "metadata": {
        "colab": {
          "base_uri": "https://localhost:8080/"
        },
        "id": "x8VQb9rWXZCs",
        "outputId": "2894c1f6-ff45-4a77-adeb-c2e19d523386"
      },
      "execution_count": 103,
      "outputs": [
        {
          "output_type": "stream",
          "name": "stdout",
          "text": [
            "20 pairs: [[390, 1001851], [44730, 338149], [560752, 390], [30637, 162304], [3778, 7019], [162302, 2094], [162302, 2987], [1, 580749], [338148, 1143897], [30637, 320224], [2987, 329705], [2811, 384574], [44730, 162302], [338149, 162302], [139176, 856078], [75482, 32724], [338148, 75482], [560748, 50096], [178, 2811], [2811, 44730]]\n",
            "20 labels: [0, 1, 1, 1, 0, 1, 1, 0, 0, 0, 0, 0, 1, 1, 0, 1, 1, 0, 1, 1]\n"
          ]
        }
      ]
    },
    {
      "cell_type": "code",
      "source": [
        "# 첫번째 뉴스그룹 샘플에 대해 생긴 pairs와 labels의 개수\n",
        "print(len(pairs))\n",
        "print(len(labels))"
      ],
      "metadata": {
        "colab": {
          "base_uri": "https://localhost:8080/"
        },
        "id": "8hGXXgs3XaBC",
        "outputId": "157b3a81-5ab7-485a-f51c-52ec2a44ad9b"
      },
      "execution_count": 104,
      "outputs": [
        {
          "output_type": "stream",
          "name": "stdout",
          "text": [
            "3220\n",
            "3220\n"
          ]
        }
      ]
    },
    {
      "cell_type": "code",
      "source": [
        "for i in range(5):\n",
        "    print('({:s} ({:d}), {:s} ({:d})) -> {:d}'.format(\n",
        "        idx2word[pairs[i][0]], pairs[i][0],\n",
        "        idx2word[pairs[i][1]], pairs[i][1],\n",
        "        labels[i]\n",
        "    ))"
      ],
      "metadata": {
        "colab": {
          "base_uri": "https://localhost:8080/"
        },
        "id": "5qHj9xXnXa41",
        "outputId": "93800752-8f48-4d6c-91ce-80d4a3fb8c01"
      },
      "execution_count": 105,
      "outputs": [
        {
          "output_type": "stream",
          "name": "stdout",
          "text": [
            "(법률 (390), 엘리슨이 (1001851)) -> 0\n",
            "(대응성 (44730), 모순성에 (338149)) -> 1\n",
            "(elaborative (560752), 법률 (390)) -> 1\n",
            "(idea (30637), 정교한 (162304)) -> 1\n",
            "(2005년에 (3778), 정상회의에서 (7019)) -> 0\n"
          ]
        }
      ]
    },
    {
      "cell_type": "code",
      "source": [
        "training_dataset = [skipgrams(sample, vocabulary_size=vocab_size, window_size=10) for sample in encoded[:5000]] # 하여튼 5천개 만들었다"
      ],
      "metadata": {
        "id": "wp7pPfdhXgn8"
      },
      "execution_count": 106,
      "outputs": []
    },
    {
      "cell_type": "code",
      "source": [
        "len(training_dataset)"
      ],
      "metadata": {
        "colab": {
          "base_uri": "https://localhost:8080/"
        },
        "id": "3jy6QGRTXw5U",
        "outputId": "54b21d41-1719-4db2-f3a2-6e4276992ae6"
      },
      "execution_count": 107,
      "outputs": [
        {
          "output_type": "execute_result",
          "data": {
            "text/plain": [
              "5000"
            ]
          },
          "metadata": {},
          "execution_count": 107
        }
      ]
    },
    {
      "cell_type": "code",
      "source": [
        "from tensorflow.keras.models import Sequential, Model\n",
        "from tensorflow.keras.layers import Embedding, Reshape, Activation, Input, Dot\n",
        "from tensorflow.keras.utils import plot_model"
      ],
      "metadata": {
        "id": "gdo3MuBHXyQL"
      },
      "execution_count": 108,
      "outputs": []
    },
    {
      "cell_type": "code",
      "source": [
        "embedding_dim = 100\n",
        "\n",
        "# 중심 단어를 위한 임베딩 테이블\n",
        "w_inputs = Input(shape=(1,), dtype='int32')\n",
        "word_embedding = Embedding(vocab_size, embedding_dim)(w_inputs)\n",
        "\n",
        "c_inputs = Input(shape=(1,), dtype='int32')\n",
        "context_embedding = Embedding(vocab_size, embedding_dim)(c_inputs)"
      ],
      "metadata": {
        "id": "xf-O3_hyXy_2"
      },
      "execution_count": 109,
      "outputs": []
    },
    {
      "cell_type": "code",
      "source": [
        "dot_product = Dot(axes=2)([word_embedding, context_embedding])\n",
        "dot_proudct = Reshape((1,), input_shape=(1,1))(dot_product)\n",
        "output = Activation('sigmoid')(dot_product)\n",
        "\n",
        "model = Model(inputs=[w_inputs, c_inputs], outputs=output)\n",
        "model.summary()"
      ],
      "metadata": {
        "colab": {
          "base_uri": "https://localhost:8080/"
        },
        "id": "GC6YpQEjX0Aw",
        "outputId": "2fc0057c-b8a7-4766-979b-65f93066271d"
      },
      "execution_count": 110,
      "outputs": [
        {
          "output_type": "stream",
          "name": "stdout",
          "text": [
            "Model: \"model_1\"\n",
            "__________________________________________________________________________________________________\n",
            " Layer (type)                   Output Shape         Param #     Connected to                     \n",
            "==================================================================================================\n",
            " input_3 (InputLayer)           [(None, 1)]          0           []                               \n",
            "                                                                                                  \n",
            " input_4 (InputLayer)           [(None, 1)]          0           []                               \n",
            "                                                                                                  \n",
            " embedding_2 (Embedding)        (None, 1, 100)       131821300   ['input_3[0][0]']                \n",
            "                                                                                                  \n",
            " embedding_3 (Embedding)        (None, 1, 100)       131821300   ['input_4[0][0]']                \n",
            "                                                                                                  \n",
            " dot_1 (Dot)                    (None, 1, 1)         0           ['embedding_2[0][0]',            \n",
            "                                                                  'embedding_3[0][0]']            \n",
            "                                                                                                  \n",
            " activation_1 (Activation)      (None, 1, 1)         0           ['dot_1[0][0]']                  \n",
            "                                                                                                  \n",
            "==================================================================================================\n",
            "Total params: 263,642,600\n",
            "Trainable params: 263,642,600\n",
            "Non-trainable params: 0\n",
            "__________________________________________________________________________________________________\n"
          ]
        }
      ]
    },
    {
      "cell_type": "code",
      "source": [
        "model.compile(loss='binary_crossentropy', optimizer='adam')"
      ],
      "metadata": {
        "id": "btnQuIVHX1Ao"
      },
      "execution_count": 111,
      "outputs": []
    },
    {
      "cell_type": "code",
      "source": [
        "# 시각화\n",
        "plot_model(model, to_file='model.png', show_shapes=True, show_layer_names=True)"
      ],
      "metadata": {
        "colab": {
          "base_uri": "https://localhost:8080/",
          "height": 422
        },
        "id": "vB0_ThvbX2J-",
        "outputId": "fc830fa1-14ab-4b3b-8e16-134fbd3bfb21"
      },
      "execution_count": 112,
      "outputs": [
        {
          "output_type": "execute_result",
          "data": {
            "image/png": "[encoded data removed]",
            "text/plain": [
              "<IPython.core.display.Image object>"
            ]
          },
          "metadata": {},
          "execution_count": 112
        }
      ]
    },
    {
      "cell_type": "code",
      "source": [
        "# 이 부분 다시 한번 봐야겠다 왜 남들은 되는데 나는 안되는거지\n",
        "for epoch in range(100):\n",
        "    loss = 0\n",
        "    for _, elem in enumerate(skip_grams):\n",
        "        first_elem = np.array(list(zip(*elem[0]))[0], dtype='int32')\n",
        "        second_elem = np.array(list(zip(*elem[0]))[1], dtype='int32')\n",
        "        labels = np.array(elem[1], dtype='int32')\n",
        "        X = [first_elem, second_elem]\n",
        "        Y = labels\n",
        "        loss += model.train_on_batch(X, Y)\n",
        "    print('Epoch:', epoch+1, 'Loss: ', loss)\n",
        "    #  ValueError: `logits` and `labels` must have the same shape, received ((2900, 1, 1) vs (2900,))."
      ],
      "metadata": {
        "colab": {
          "base_uri": "https://localhost:8080/",
          "height": 812
        },
        "id": "VhemMEXPX3BZ",
        "outputId": "7422f568-1dd5-40f9-b55a-76cf72ae24f2"
      },
      "execution_count": 113,
      "outputs": [
        {
          "output_type": "error",
          "ename": "ValueError",
          "evalue": "ignored",
          "traceback": [
            "\u001b[0;31m---------------------------------------------------------------------------\u001b[0m",
            "\u001b[0;31mValueError\u001b[0m                                Traceback (most recent call last)",
            "\u001b[0;32m<ipython-input-113-1a9746e35054>\u001b[0m in \u001b[0;36m<cell line: 2>\u001b[0;34m()\u001b[0m\n\u001b[1;32m      8\u001b[0m         \u001b[0mX\u001b[0m \u001b[0;34m=\u001b[0m \u001b[0;34m[\u001b[0m\u001b[0mfirst_elem\u001b[0m\u001b[0;34m,\u001b[0m \u001b[0msecond_elem\u001b[0m\u001b[0;34m]\u001b[0m\u001b[0;34m\u001b[0m\u001b[0;34m\u001b[0m\u001b[0m\n\u001b[1;32m      9\u001b[0m         \u001b[0mY\u001b[0m \u001b[0;34m=\u001b[0m \u001b[0mlabels\u001b[0m\u001b[0;34m\u001b[0m\u001b[0;34m\u001b[0m\u001b[0m\n\u001b[0;32m---> 10\u001b[0;31m         \u001b[0mloss\u001b[0m \u001b[0;34m+=\u001b[0m \u001b[0mmodel\u001b[0m\u001b[0;34m.\u001b[0m\u001b[0mtrain_on_batch\u001b[0m\u001b[0;34m(\u001b[0m\u001b[0mX\u001b[0m\u001b[0;34m,\u001b[0m \u001b[0mY\u001b[0m\u001b[0;34m)\u001b[0m\u001b[0;34m\u001b[0m\u001b[0;34m\u001b[0m\u001b[0m\n\u001b[0m\u001b[1;32m     11\u001b[0m     \u001b[0mprint\u001b[0m\u001b[0;34m(\u001b[0m\u001b[0;34m'Epoch:'\u001b[0m\u001b[0;34m,\u001b[0m \u001b[0mepoch\u001b[0m\u001b[0;34m+\u001b[0m\u001b[0;36m1\u001b[0m\u001b[0;34m,\u001b[0m \u001b[0;34m'Loss: '\u001b[0m\u001b[0;34m,\u001b[0m \u001b[0mloss\u001b[0m\u001b[0;34m)\u001b[0m\u001b[0;34m\u001b[0m\u001b[0;34m\u001b[0m\u001b[0m\n\u001b[1;32m     12\u001b[0m     \u001b[0;31m#  ValueError: `logits` and `labels` must have the same shape, received ((2900, 1, 1) vs (2900,)).\u001b[0m\u001b[0;34m\u001b[0m\u001b[0;34m\u001b[0m\u001b[0m\n",
            "\u001b[0;32m/usr/local/lib/python3.10/dist-packages/keras/engine/training.py\u001b[0m in \u001b[0;36mtrain_on_batch\u001b[0;34m(self, x, y, sample_weight, class_weight, reset_metrics, return_dict)\u001b[0m\n\u001b[1;32m   2508\u001b[0m             )\n\u001b[1;32m   2509\u001b[0m             \u001b[0mself\u001b[0m\u001b[0;34m.\u001b[0m\u001b[0mtrain_function\u001b[0m \u001b[0;34m=\u001b[0m \u001b[0mself\u001b[0m\u001b[0;34m.\u001b[0m\u001b[0mmake_train_function\u001b[0m\u001b[0;34m(\u001b[0m\u001b[0;34m)\u001b[0m\u001b[0;34m\u001b[0m\u001b[0;34m\u001b[0m\u001b[0m\n\u001b[0;32m-> 2510\u001b[0;31m             \u001b[0mlogs\u001b[0m \u001b[0;34m=\u001b[0m \u001b[0mself\u001b[0m\u001b[0;34m.\u001b[0m\u001b[0mtrain_function\u001b[0m\u001b[0;34m(\u001b[0m\u001b[0miterator\u001b[0m\u001b[0;34m)\u001b[0m\u001b[0;34m\u001b[0m\u001b[0;34m\u001b[0m\u001b[0m\n\u001b[0m\u001b[1;32m   2511\u001b[0m \u001b[0;34m\u001b[0m\u001b[0m\n\u001b[1;32m   2512\u001b[0m         \u001b[0mlogs\u001b[0m \u001b[0;34m=\u001b[0m \u001b[0mtf_utils\u001b[0m\u001b[0;34m.\u001b[0m\u001b[0msync_to_numpy_or_python_type\u001b[0m\u001b[0;34m(\u001b[0m\u001b[0mlogs\u001b[0m\u001b[0;34m)\u001b[0m\u001b[0;34m\u001b[0m\u001b[0;34m\u001b[0m\u001b[0m\n",
            "\u001b[0;32m/usr/local/lib/python3.10/dist-packages/tensorflow/python/util/traceback_utils.py\u001b[0m in \u001b[0;36merror_handler\u001b[0;34m(*args, **kwargs)\u001b[0m\n\u001b[1;32m    151\u001b[0m     \u001b[0;32mexcept\u001b[0m \u001b[0mException\u001b[0m \u001b[0;32mas\u001b[0m \u001b[0me\u001b[0m\u001b[0;34m:\u001b[0m\u001b[0;34m\u001b[0m\u001b[0;34m\u001b[0m\u001b[0m\n\u001b[1;32m    152\u001b[0m       \u001b[0mfiltered_tb\u001b[0m \u001b[0;34m=\u001b[0m \u001b[0m_process_traceback_frames\u001b[0m\u001b[0;34m(\u001b[0m\u001b[0me\u001b[0m\u001b[0;34m.\u001b[0m\u001b[0m__traceback__\u001b[0m\u001b[0;34m)\u001b[0m\u001b[0;34m\u001b[0m\u001b[0;34m\u001b[0m\u001b[0m\n\u001b[0;32m--> 153\u001b[0;31m       \u001b[0;32mraise\u001b[0m \u001b[0me\u001b[0m\u001b[0;34m.\u001b[0m\u001b[0mwith_traceback\u001b[0m\u001b[0;34m(\u001b[0m\u001b[0mfiltered_tb\u001b[0m\u001b[0;34m)\u001b[0m \u001b[0;32mfrom\u001b[0m \u001b[0;32mNone\u001b[0m\u001b[0;34m\u001b[0m\u001b[0;34m\u001b[0m\u001b[0m\n\u001b[0m\u001b[1;32m    154\u001b[0m     \u001b[0;32mfinally\u001b[0m\u001b[0;34m:\u001b[0m\u001b[0;34m\u001b[0m\u001b[0;34m\u001b[0m\u001b[0m\n\u001b[1;32m    155\u001b[0m       \u001b[0;32mdel\u001b[0m \u001b[0mfiltered_tb\u001b[0m\u001b[0;34m\u001b[0m\u001b[0;34m\u001b[0m\u001b[0m\n",
            "\u001b[0;32m/usr/local/lib/python3.10/dist-packages/keras/engine/training.py\u001b[0m in \u001b[0;36mtf__train_function\u001b[0;34m(iterator)\u001b[0m\n\u001b[1;32m     13\u001b[0m                 \u001b[0;32mtry\u001b[0m\u001b[0;34m:\u001b[0m\u001b[0;34m\u001b[0m\u001b[0;34m\u001b[0m\u001b[0m\n\u001b[1;32m     14\u001b[0m                     \u001b[0mdo_return\u001b[0m \u001b[0;34m=\u001b[0m \u001b[0;32mTrue\u001b[0m\u001b[0;34m\u001b[0m\u001b[0;34m\u001b[0m\u001b[0m\n\u001b[0;32m---> 15\u001b[0;31m                     \u001b[0mretval_\u001b[0m \u001b[0;34m=\u001b[0m \u001b[0mag__\u001b[0m\u001b[0;34m.\u001b[0m\u001b[0mconverted_call\u001b[0m\u001b[0;34m(\u001b[0m\u001b[0mag__\u001b[0m\u001b[0;34m.\u001b[0m\u001b[0mld\u001b[0m\u001b[0;34m(\u001b[0m\u001b[0mstep_function\u001b[0m\u001b[0;34m)\u001b[0m\u001b[0;34m,\u001b[0m \u001b[0;34m(\u001b[0m\u001b[0mag__\u001b[0m\u001b[0;34m.\u001b[0m\u001b[0mld\u001b[0m\u001b[0;34m(\u001b[0m\u001b[0mself\u001b[0m\u001b[0;34m)\u001b[0m\u001b[0;34m,\u001b[0m \u001b[0mag__\u001b[0m\u001b[0;34m.\u001b[0m\u001b[0mld\u001b[0m\u001b[0;34m(\u001b[0m\u001b[0miterator\u001b[0m\u001b[0;34m)\u001b[0m\u001b[0;34m)\u001b[0m\u001b[0;34m,\u001b[0m \u001b[0;32mNone\u001b[0m\u001b[0;34m,\u001b[0m \u001b[0mfscope\u001b[0m\u001b[0;34m)\u001b[0m\u001b[0;34m\u001b[0m\u001b[0;34m\u001b[0m\u001b[0m\n\u001b[0m\u001b[1;32m     16\u001b[0m                 \u001b[0;32mexcept\u001b[0m\u001b[0;34m:\u001b[0m\u001b[0;34m\u001b[0m\u001b[0;34m\u001b[0m\u001b[0m\n\u001b[1;32m     17\u001b[0m                     \u001b[0mdo_return\u001b[0m \u001b[0;34m=\u001b[0m \u001b[0;32mFalse\u001b[0m\u001b[0;34m\u001b[0m\u001b[0;34m\u001b[0m\u001b[0m\n",
            "\u001b[0;32m/usr/local/lib/python3.10/dist-packages/keras/engine/training.py\u001b[0m in \u001b[0;36mstep_function\u001b[0;34m(model, iterator)\u001b[0m\n\u001b[1;32m   1266\u001b[0m                 )\n\u001b[1;32m   1267\u001b[0m             \u001b[0mdata\u001b[0m \u001b[0;34m=\u001b[0m \u001b[0mnext\u001b[0m\u001b[0;34m(\u001b[0m\u001b[0miterator\u001b[0m\u001b[0;34m)\u001b[0m\u001b[0;34m\u001b[0m\u001b[0;34m\u001b[0m\u001b[0m\n\u001b[0;32m-> 1268\u001b[0;31m             \u001b[0moutputs\u001b[0m \u001b[0;34m=\u001b[0m \u001b[0mmodel\u001b[0m\u001b[0;34m.\u001b[0m\u001b[0mdistribute_strategy\u001b[0m\u001b[0;34m.\u001b[0m\u001b[0mrun\u001b[0m\u001b[0;34m(\u001b[0m\u001b[0mrun_step\u001b[0m\u001b[0;34m,\u001b[0m \u001b[0margs\u001b[0m\u001b[0;34m=\u001b[0m\u001b[0;34m(\u001b[0m\u001b[0mdata\u001b[0m\u001b[0;34m,\u001b[0m\u001b[0;34m)\u001b[0m\u001b[0;34m)\u001b[0m\u001b[0;34m\u001b[0m\u001b[0;34m\u001b[0m\u001b[0m\n\u001b[0m\u001b[1;32m   1269\u001b[0m             outputs = reduce_per_replica(\n\u001b[1;32m   1270\u001b[0m                 \u001b[0moutputs\u001b[0m\u001b[0;34m,\u001b[0m\u001b[0;34m\u001b[0m\u001b[0;34m\u001b[0m\u001b[0m\n",
            "\u001b[0;32m/usr/local/lib/python3.10/dist-packages/keras/engine/training.py\u001b[0m in \u001b[0;36mrun_step\u001b[0;34m(data)\u001b[0m\n\u001b[1;32m   1247\u001b[0m \u001b[0;34m\u001b[0m\u001b[0m\n\u001b[1;32m   1248\u001b[0m             \u001b[0;32mdef\u001b[0m \u001b[0mrun_step\u001b[0m\u001b[0;34m(\u001b[0m\u001b[0mdata\u001b[0m\u001b[0;34m)\u001b[0m\u001b[0;34m:\u001b[0m\u001b[0;34m\u001b[0m\u001b[0;34m\u001b[0m\u001b[0m\n\u001b[0;32m-> 1249\u001b[0;31m                 \u001b[0moutputs\u001b[0m \u001b[0;34m=\u001b[0m \u001b[0mmodel\u001b[0m\u001b[0;34m.\u001b[0m\u001b[0mtrain_step\u001b[0m\u001b[0;34m(\u001b[0m\u001b[0mdata\u001b[0m\u001b[0;34m)\u001b[0m\u001b[0;34m\u001b[0m\u001b[0;34m\u001b[0m\u001b[0m\n\u001b[0m\u001b[1;32m   1250\u001b[0m                 \u001b[0;31m# Ensure counter is updated only if `train_step` succeeds.\u001b[0m\u001b[0;34m\u001b[0m\u001b[0;34m\u001b[0m\u001b[0m\n\u001b[1;32m   1251\u001b[0m                 \u001b[0;32mwith\u001b[0m \u001b[0mtf\u001b[0m\u001b[0;34m.\u001b[0m\u001b[0mcontrol_dependencies\u001b[0m\u001b[0;34m(\u001b[0m\u001b[0m_minimum_control_deps\u001b[0m\u001b[0;34m(\u001b[0m\u001b[0moutputs\u001b[0m\u001b[0;34m)\u001b[0m\u001b[0;34m)\u001b[0m\u001b[0;34m:\u001b[0m\u001b[0;34m\u001b[0m\u001b[0;34m\u001b[0m\u001b[0m\n",
            "\u001b[0;32m/usr/local/lib/python3.10/dist-packages/keras/engine/training.py\u001b[0m in \u001b[0;36mtrain_step\u001b[0;34m(self, data)\u001b[0m\n\u001b[1;32m   1049\u001b[0m         \u001b[0;32mwith\u001b[0m \u001b[0mtf\u001b[0m\u001b[0;34m.\u001b[0m\u001b[0mGradientTape\u001b[0m\u001b[0;34m(\u001b[0m\u001b[0;34m)\u001b[0m \u001b[0;32mas\u001b[0m \u001b[0mtape\u001b[0m\u001b[0;34m:\u001b[0m\u001b[0;34m\u001b[0m\u001b[0;34m\u001b[0m\u001b[0m\n\u001b[1;32m   1050\u001b[0m             \u001b[0my_pred\u001b[0m \u001b[0;34m=\u001b[0m \u001b[0mself\u001b[0m\u001b[0;34m(\u001b[0m\u001b[0mx\u001b[0m\u001b[0;34m,\u001b[0m \u001b[0mtraining\u001b[0m\u001b[0;34m=\u001b[0m\u001b[0;32mTrue\u001b[0m\u001b[0;34m)\u001b[0m\u001b[0;34m\u001b[0m\u001b[0;34m\u001b[0m\u001b[0m\n\u001b[0;32m-> 1051\u001b[0;31m             \u001b[0mloss\u001b[0m \u001b[0;34m=\u001b[0m \u001b[0mself\u001b[0m\u001b[0;34m.\u001b[0m\u001b[0mcompute_loss\u001b[0m\u001b[0;34m(\u001b[0m\u001b[0mx\u001b[0m\u001b[0;34m,\u001b[0m \u001b[0my\u001b[0m\u001b[0;34m,\u001b[0m \u001b[0my_pred\u001b[0m\u001b[0;34m,\u001b[0m \u001b[0msample_weight\u001b[0m\u001b[0;34m)\u001b[0m\u001b[0;34m\u001b[0m\u001b[0;34m\u001b[0m\u001b[0m\n\u001b[0m\u001b[1;32m   1052\u001b[0m         \u001b[0mself\u001b[0m\u001b[0;34m.\u001b[0m\u001b[0m_validate_target_and_loss\u001b[0m\u001b[0;34m(\u001b[0m\u001b[0my\u001b[0m\u001b[0;34m,\u001b[0m \u001b[0mloss\u001b[0m\u001b[0;34m)\u001b[0m\u001b[0;34m\u001b[0m\u001b[0;34m\u001b[0m\u001b[0m\n\u001b[1;32m   1053\u001b[0m         \u001b[0;31m# Run backwards pass.\u001b[0m\u001b[0;34m\u001b[0m\u001b[0;34m\u001b[0m\u001b[0m\n",
            "\u001b[0;32m/usr/local/lib/python3.10/dist-packages/keras/engine/training.py\u001b[0m in \u001b[0;36mcompute_loss\u001b[0;34m(***failed resolving arguments***)\u001b[0m\n\u001b[1;32m   1107\u001b[0m         \"\"\"\n\u001b[1;32m   1108\u001b[0m         \u001b[0;32mdel\u001b[0m \u001b[0mx\u001b[0m  \u001b[0;31m# The default implementation does not use `x`.\u001b[0m\u001b[0;34m\u001b[0m\u001b[0;34m\u001b[0m\u001b[0m\n\u001b[0;32m-> 1109\u001b[0;31m         return self.compiled_loss(\n\u001b[0m\u001b[1;32m   1110\u001b[0m             \u001b[0my\u001b[0m\u001b[0;34m,\u001b[0m \u001b[0my_pred\u001b[0m\u001b[0;34m,\u001b[0m \u001b[0msample_weight\u001b[0m\u001b[0;34m,\u001b[0m \u001b[0mregularization_losses\u001b[0m\u001b[0;34m=\u001b[0m\u001b[0mself\u001b[0m\u001b[0;34m.\u001b[0m\u001b[0mlosses\u001b[0m\u001b[0;34m\u001b[0m\u001b[0;34m\u001b[0m\u001b[0m\n\u001b[1;32m   1111\u001b[0m         )\n",
            "\u001b[0;32m/usr/local/lib/python3.10/dist-packages/keras/engine/compile_utils.py\u001b[0m in \u001b[0;36m__call__\u001b[0;34m(self, y_true, y_pred, sample_weight, regularization_losses)\u001b[0m\n\u001b[1;32m    263\u001b[0m             \u001b[0my_t\u001b[0m\u001b[0;34m,\u001b[0m \u001b[0my_p\u001b[0m\u001b[0;34m,\u001b[0m \u001b[0msw\u001b[0m \u001b[0;34m=\u001b[0m \u001b[0mmatch_dtype_and_rank\u001b[0m\u001b[0;34m(\u001b[0m\u001b[0my_t\u001b[0m\u001b[0;34m,\u001b[0m \u001b[0my_p\u001b[0m\u001b[0;34m,\u001b[0m \u001b[0msw\u001b[0m\u001b[0;34m)\u001b[0m\u001b[0;34m\u001b[0m\u001b[0;34m\u001b[0m\u001b[0m\n\u001b[1;32m    264\u001b[0m             \u001b[0msw\u001b[0m \u001b[0;34m=\u001b[0m \u001b[0mlosses_utils\u001b[0m\u001b[0;34m.\u001b[0m\u001b[0mapply_mask\u001b[0m\u001b[0;34m(\u001b[0m\u001b[0my_p\u001b[0m\u001b[0;34m,\u001b[0m \u001b[0msw\u001b[0m\u001b[0;34m,\u001b[0m \u001b[0mlosses_utils\u001b[0m\u001b[0;34m.\u001b[0m\u001b[0mget_mask\u001b[0m\u001b[0;34m(\u001b[0m\u001b[0my_p\u001b[0m\u001b[0;34m)\u001b[0m\u001b[0;34m)\u001b[0m\u001b[0;34m\u001b[0m\u001b[0;34m\u001b[0m\u001b[0m\n\u001b[0;32m--> 265\u001b[0;31m             \u001b[0mloss_value\u001b[0m \u001b[0;34m=\u001b[0m \u001b[0mloss_obj\u001b[0m\u001b[0;34m(\u001b[0m\u001b[0my_t\u001b[0m\u001b[0;34m,\u001b[0m \u001b[0my_p\u001b[0m\u001b[0;34m,\u001b[0m \u001b[0msample_weight\u001b[0m\u001b[0;34m=\u001b[0m\u001b[0msw\u001b[0m\u001b[0;34m)\u001b[0m\u001b[0;34m\u001b[0m\u001b[0;34m\u001b[0m\u001b[0m\n\u001b[0m\u001b[1;32m    266\u001b[0m \u001b[0;34m\u001b[0m\u001b[0m\n\u001b[1;32m    267\u001b[0m             \u001b[0mtotal_loss_mean_value\u001b[0m \u001b[0;34m=\u001b[0m \u001b[0mloss_value\u001b[0m\u001b[0;34m\u001b[0m\u001b[0;34m\u001b[0m\u001b[0m\n",
            "\u001b[0;32m/usr/local/lib/python3.10/dist-packages/keras/losses.py\u001b[0m in \u001b[0;36m__call__\u001b[0;34m(self, y_true, y_pred, sample_weight)\u001b[0m\n\u001b[1;32m    140\u001b[0m                 )\n\u001b[1;32m    141\u001b[0m \u001b[0;34m\u001b[0m\u001b[0m\n\u001b[0;32m--> 142\u001b[0;31m             \u001b[0mlosses\u001b[0m \u001b[0;34m=\u001b[0m \u001b[0mcall_fn\u001b[0m\u001b[0;34m(\u001b[0m\u001b[0my_true\u001b[0m\u001b[0;34m,\u001b[0m \u001b[0my_pred\u001b[0m\u001b[0;34m)\u001b[0m\u001b[0;34m\u001b[0m\u001b[0;34m\u001b[0m\u001b[0m\n\u001b[0m\u001b[1;32m    143\u001b[0m \u001b[0;34m\u001b[0m\u001b[0m\n\u001b[1;32m    144\u001b[0m             \u001b[0min_mask\u001b[0m \u001b[0;34m=\u001b[0m \u001b[0mlosses_utils\u001b[0m\u001b[0;34m.\u001b[0m\u001b[0mget_mask\u001b[0m\u001b[0;34m(\u001b[0m\u001b[0my_pred\u001b[0m\u001b[0;34m)\u001b[0m\u001b[0;34m\u001b[0m\u001b[0;34m\u001b[0m\u001b[0m\n",
            "\u001b[0;32m/usr/local/lib/python3.10/dist-packages/keras/losses.py\u001b[0m in \u001b[0;36mcall\u001b[0;34m(self, y_true, y_pred)\u001b[0m\n\u001b[1;32m    266\u001b[0m             \u001b[0mself\u001b[0m\u001b[0;34m.\u001b[0m\u001b[0mfn\u001b[0m\u001b[0;34m,\u001b[0m \u001b[0mtf\u001b[0m\u001b[0;34m.\u001b[0m\u001b[0m__internal__\u001b[0m\u001b[0;34m.\u001b[0m\u001b[0mautograph\u001b[0m\u001b[0;34m.\u001b[0m\u001b[0mcontrol_status_ctx\u001b[0m\u001b[0;34m(\u001b[0m\u001b[0;34m)\u001b[0m\u001b[0;34m\u001b[0m\u001b[0;34m\u001b[0m\u001b[0m\n\u001b[1;32m    267\u001b[0m         )\n\u001b[0;32m--> 268\u001b[0;31m         \u001b[0;32mreturn\u001b[0m \u001b[0mag_fn\u001b[0m\u001b[0;34m(\u001b[0m\u001b[0my_true\u001b[0m\u001b[0;34m,\u001b[0m \u001b[0my_pred\u001b[0m\u001b[0;34m,\u001b[0m \u001b[0;34m**\u001b[0m\u001b[0mself\u001b[0m\u001b[0;34m.\u001b[0m\u001b[0m_fn_kwargs\u001b[0m\u001b[0;34m)\u001b[0m\u001b[0;34m\u001b[0m\u001b[0;34m\u001b[0m\u001b[0m\n\u001b[0m\u001b[1;32m    269\u001b[0m \u001b[0;34m\u001b[0m\u001b[0m\n\u001b[1;32m    270\u001b[0m     \u001b[0;32mdef\u001b[0m \u001b[0mget_config\u001b[0m\u001b[0;34m(\u001b[0m\u001b[0mself\u001b[0m\u001b[0;34m)\u001b[0m\u001b[0;34m:\u001b[0m\u001b[0;34m\u001b[0m\u001b[0;34m\u001b[0m\u001b[0m\n",
            "\u001b[0;32m/usr/local/lib/python3.10/dist-packages/keras/losses.py\u001b[0m in \u001b[0;36mbinary_crossentropy\u001b[0;34m(y_true, y_pred, from_logits, label_smoothing, axis)\u001b[0m\n\u001b[1;32m   2154\u001b[0m \u001b[0;34m\u001b[0m\u001b[0m\n\u001b[1;32m   2155\u001b[0m     return backend.mean(\n\u001b[0;32m-> 2156\u001b[0;31m         \u001b[0mbackend\u001b[0m\u001b[0;34m.\u001b[0m\u001b[0mbinary_crossentropy\u001b[0m\u001b[0;34m(\u001b[0m\u001b[0my_true\u001b[0m\u001b[0;34m,\u001b[0m \u001b[0my_pred\u001b[0m\u001b[0;34m,\u001b[0m \u001b[0mfrom_logits\u001b[0m\u001b[0;34m=\u001b[0m\u001b[0mfrom_logits\u001b[0m\u001b[0;34m)\u001b[0m\u001b[0;34m,\u001b[0m\u001b[0;34m\u001b[0m\u001b[0;34m\u001b[0m\u001b[0m\n\u001b[0m\u001b[1;32m   2157\u001b[0m         \u001b[0maxis\u001b[0m\u001b[0;34m=\u001b[0m\u001b[0maxis\u001b[0m\u001b[0;34m,\u001b[0m\u001b[0;34m\u001b[0m\u001b[0;34m\u001b[0m\u001b[0m\n\u001b[1;32m   2158\u001b[0m     )\n",
            "\u001b[0;32m/usr/local/lib/python3.10/dist-packages/keras/backend.py\u001b[0m in \u001b[0;36mbinary_crossentropy\u001b[0;34m(target, output, from_logits)\u001b[0m\n\u001b[1;32m   5705\u001b[0m     )\n\u001b[1;32m   5706\u001b[0m     \u001b[0;32mif\u001b[0m \u001b[0mfrom_logits\u001b[0m\u001b[0;34m:\u001b[0m\u001b[0;34m\u001b[0m\u001b[0;34m\u001b[0m\u001b[0m\n\u001b[0;32m-> 5707\u001b[0;31m         return tf.nn.sigmoid_cross_entropy_with_logits(\n\u001b[0m\u001b[1;32m   5708\u001b[0m             \u001b[0mlabels\u001b[0m\u001b[0;34m=\u001b[0m\u001b[0mtarget\u001b[0m\u001b[0;34m,\u001b[0m \u001b[0mlogits\u001b[0m\u001b[0;34m=\u001b[0m\u001b[0moutput\u001b[0m\u001b[0;34m\u001b[0m\u001b[0;34m\u001b[0m\u001b[0m\n\u001b[1;32m   5709\u001b[0m         )\n",
            "\u001b[0;31mValueError\u001b[0m: in user code:\n\n    File \"/usr/local/lib/python3.10/dist-packages/keras/engine/training.py\", line 1284, in train_function  *\n        return step_function(self, iterator)\n    File \"/usr/local/lib/python3.10/dist-packages/keras/engine/training.py\", line 1268, in step_function  **\n        outputs = model.distribute_strategy.run(run_step, args=(data,))\n    File \"/usr/local/lib/python3.10/dist-packages/keras/engine/training.py\", line 1249, in run_step  **\n        outputs = model.train_step(data)\n    File \"/usr/local/lib/python3.10/dist-packages/keras/engine/training.py\", line 1051, in train_step\n        loss = self.compute_loss(x, y, y_pred, sample_weight)\n    File \"/usr/local/lib/python3.10/dist-packages/keras/engine/training.py\", line 1109, in compute_loss\n        return self.compiled_loss(\n    File \"/usr/local/lib/python3.10/dist-packages/keras/engine/compile_utils.py\", line 265, in __call__\n        loss_value = loss_obj(y_t, y_p, sample_weight=sw)\n    File \"/usr/local/lib/python3.10/dist-packages/keras/losses.py\", line 142, in __call__\n        losses = call_fn(y_true, y_pred)\n    File \"/usr/local/lib/python3.10/dist-packages/keras/losses.py\", line 268, in call  **\n        return ag_fn(y_true, y_pred, **self._fn_kwargs)\n    File \"/usr/local/lib/python3.10/dist-packages/keras/losses.py\", line 2156, in binary_crossentropy\n        backend.binary_crossentropy(y_true, y_pred, from_logits=from_logits),\n    File \"/usr/local/lib/python3.10/dist-packages/keras/backend.py\", line 5707, in binary_crossentropy\n        return tf.nn.sigmoid_cross_entropy_with_logits(\n\n    ValueError: `logits` and `labels` must have the same shape, received ((3220, 1, 1) vs (3220,)).\n"
          ]
        }
      ]
    },
    {
      "cell_type": "code",
      "source": [
        "for _, elem in enumerate(skip_grams):\n",
        "  # print(elem) # 이거 가지고 어떻게?\n",
        "  first_elem = np.array(list(zip(*elem[0]))[0], dtype='int32')\n",
        "\n",
        "  second_elem = np.array(list(zip(*elem[0]))[1], dtype='int32')\n",
        "\n",
        "  print(first_elem) # 하나 자체가 이제 다나옴\n",
        "  print(second_elem)"
      ],
      "metadata": {
        "colab": {
          "base_uri": "https://localhost:8080/"
        },
        "id": "NM8TWzCMYJGv",
        "outputId": "622bda53-3837-4eb9-9b83-69c284de750d"
      },
      "execution_count": 114,
      "outputs": [
        {
          "output_type": "stream",
          "name": "stdout",
          "text": [
            "[   390  44730 560752 ... 560747  70080     52]\n",
            "[1001851  338149     390 ...  772297  560746  186924]\n",
            "[560753  41051   3184 ...  10875  23833   2067]\n",
            "[ 872618  426080   97830 ...  106337 1280892    8860]\n",
            "[ 31636  21575  65542 ...   3074    557 338153]\n",
            "[ 54822  75483     55 ... 814253    130 204495]\n",
            "[ 54823   1452 162305 ...   3663  10471 162305]\n",
            "[ 162305   49179  891041 ... 1285755  912401  959716]\n",
            "[61562   213   213 ... 33859  3112   718]\n",
            "[369114 622886 656893 ...    171 579606  25803]\n",
            "[31639  8531   591 ...    42   591   851]\n",
            "[195794 108415 247552 ... 281170 272000 207056]\n",
            "[  53   62 5041 ...  832   13 4777]\n",
            "[1187777  639604   16075 ... 1125579  560769     395]\n",
            "[  2865 162309 247555 ...  51861  61563   1353]\n",
            "[635324   8457   3057 ... 666265 681593 641001]\n",
            "[560777  89018   3645 ...  32726 247559 195801]\n",
            "[  58024  206260  139182 ...  980554 1044199     533]\n",
            "[   115 139184      3 ...   2105     65   4747]\n",
            "[   2573      27    2105 ...  933701  404156 1180302]\n",
            "[ 36395   8141   5656 ...  25115 162312    680]\n",
            "[  4430 281244    131 ...   4430    194 162311]\n",
            "[ 49250  49250  97834 ...  14249 560784  97833]\n",
            "[  43106 1197670     194 ...  914832   28803  773668]\n",
            "[  2988    679 162313 ...  13024    221  89021]\n",
            "[699328  13024  51862 ... 740662    791 904299]\n",
            "[338181     81  25116 ...    573   5540    417]\n",
            "[  3200 560792   7080 ...      1    401     42]\n",
            "[   413    413 338182 ... 560793   5146     32]\n",
            "[ 22607    342   9057 ...    447 628057    337]\n",
            "[108424  61569 247564 ...    422    110    110]\n",
            "[ 560798  961790  159691 ...   61569 1248280  560795]\n",
            "[195804    683   9648 ...    135 560800  22608]\n",
            "[651481  16989 999215 ... 148437 560801  22608]\n",
            "[   23   415  3125 ...  1410 15484 49252]\n",
            "[ 759765   22609  676736 ... 1088479  560806  403313]\n",
            "[   661 139190   1387 ... 560812    222 162322]\n",
            "[ 287788   19377   20208 ... 1052149  109807  282551]\n",
            "[338197 338197 338197 ...   7381 338195  54827]\n",
            "[ 242452    3925  653835 ...  744228     196 1298611]\n"
          ]
        }
      ]
    },
    {
      "cell_type": "code",
      "source": [
        "f = open('vectors.txt','w')\n",
        "f.write('{} {}\\n'.format(vocab_size-1, embedding_dim)) # vocab의 사이즈 -1개가 전체 찍힘\n",
        "vectors = model.get_weights()[0]\n",
        "# print(vectors)\n",
        "\n",
        "for word, i in tokenizer.word_index.items():\n",
        "  f.write('{} {}\\n'.format(word, ' '.join(map(str, list(vectors[i, :])))))\n",
        "f.close()\n",
        "\n",
        "# 왜 만들까? 이거를 가져와갖고 사용할 수 있게끔\n",
        "# 로드해서 바로, 가중치가 적용된 것을 잊어먹지 않고 쓰지 않게"
      ],
      "metadata": {
        "id": "dpA2CzLqYZI0"
      },
      "execution_count": 115,
      "outputs": []
    },
    {
      "cell_type": "code",
      "source": [
        "import gensim"
      ],
      "metadata": {
        "id": "YseBLqW-ivNl"
      },
      "execution_count": 117,
      "outputs": []
    },
    {
      "cell_type": "code",
      "source": [
        "w2v = gensim.models.KeyedVectors.load_word2vec_format('./vectors.txt', binary=False)"
      ],
      "metadata": {
        "id": "wCFlgj_3YJ7P"
      },
      "execution_count": 118,
      "outputs": []
    },
    {
      "cell_type": "code",
      "source": [
        "w2v.most_similar(positive=['기술지식'])"
      ],
      "metadata": {
        "colab": {
          "base_uri": "https://localhost:8080/"
        },
        "id": "1Riq6ITNYLLS",
        "outputId": "0ce7b4a6-8cc4-48f1-8aaa-15269f20e70f"
      },
      "execution_count": 119,
      "outputs": [
        {
          "output_type": "execute_result",
          "data": {
            "text/plain": [
              "[('33명을', 0.4546351730823517),\n",
              " ('금형공업협동조합과', 0.4543410837650299),\n",
              " ('근로유형에', 0.45396003127098083),\n",
              " ('분절성으로', 0.4470941424369812),\n",
              " ('협력체가', 0.4436172544956207),\n",
              " ('bismayah', 0.43271398544311523),\n",
              " ('지대창출', 0.4264114797115326),\n",
              " ('新실크로드', 0.4255157709121704),\n",
              " ('사형선택여부판단은', 0.4218997359275818),\n",
              " ('해양자원에', 0.4195273220539093)]"
            ]
          },
          "metadata": {},
          "execution_count": 119
        }
      ]
    },
    {
      "cell_type": "code",
      "source": [
        "w2v.most_similar(positive=['웰니스'])"
      ],
      "metadata": {
        "colab": {
          "base_uri": "https://localhost:8080/"
        },
        "id": "Ta0CCPFRYMCH",
        "outputId": "ebc57576-b166-44bd-a245-f1e847f79e09"
      },
      "execution_count": 120,
      "outputs": [
        {
          "output_type": "execute_result",
          "data": {
            "text/plain": [
              "[('설계변수를', 0.44581544399261475),\n",
              " ('억지스럽게', 0.4427480101585388),\n",
              " ('통찰하게', 0.4304325580596924),\n",
              " ('위로보다', 0.4251515865325928),\n",
              " ('역사탐방과', 0.42092519998550415),\n",
              " ('lsoas가', 0.4207964539527893),\n",
              " ('차별시정에', 0.420743852853775),\n",
              " ('거둬들이면서', 0.42034608125686646),\n",
              " ('연계지역은', 0.415728896856308),\n",
              " ('도시민박업은', 0.4148945212364197)]"
            ]
          },
          "metadata": {},
          "execution_count": 120
        }
      ]
    },
    {
      "cell_type": "code",
      "source": [
        "w2v.most_similar(positive=['요금'])"
      ],
      "metadata": {
        "colab": {
          "base_uri": "https://localhost:8080/"
        },
        "id": "PGMzIM0SY9h5",
        "outputId": "3deded9f-8af1-4f5e-a442-c336959ff4cc"
      },
      "execution_count": 121,
      "outputs": [
        {
          "output_type": "execute_result",
          "data": {
            "text/plain": [
              "[('국가역량으로', 0.49451231956481934),\n",
              " ('유관기관에서', 0.47005733847618103),\n",
              " ('토양염농도', 0.45835351943969727),\n",
              " ('제출문제', 0.4498777687549591),\n",
              " ('해양과학분야에', 0.44741570949554443),\n",
              " ('농촌지역에서의', 0.445326566696167),\n",
              " ('이상탈의라고', 0.4427643120288849),\n",
              " ('인권정책과', 0.44254350662231445),\n",
              " ('할인권', 0.44251975417137146),\n",
              " ('조건들에', 0.4303722083568573)]"
            ]
          },
          "metadata": {},
          "execution_count": 121
        }
      ]
    },
    {
      "cell_type": "code",
      "source": [
        "w2v.most_similar(positive=['사회적'])"
      ],
      "metadata": {
        "colab": {
          "base_uri": "https://localhost:8080/"
        },
        "id": "tE4B8S7-ZAst",
        "outputId": "f559586f-7a24-4273-8032-e97af6c2dbf5"
      },
      "execution_count": 122,
      "outputs": [
        {
          "output_type": "execute_result",
          "data": {
            "text/plain": [
              "[('고용보호법이', 0.47141358256340027),\n",
              " ('사용했을까', 0.450730562210083),\n",
              " ('확산기능으로', 0.4465535879135132),\n",
              " ('형사관할권을', 0.4464931786060333),\n",
              " ('명령하는', 0.43301844596862793),\n",
              " ('출원서비스표를', 0.4315354526042938),\n",
              " ('보장수준을', 0.41870972514152527),\n",
              " ('토지등소유자에서', 0.41595956683158875),\n",
              " ('실무지도자를', 0.4148727059364319),\n",
              " ('우닌우', 0.4142175316810608)]"
            ]
          },
          "metadata": {},
          "execution_count": 122
        }
      ]
    }
  ],
  "metadata": {
    "colab": {
      "provenance": []
    },
    "kernelspec": {
      "display_name": "Python 3",
      "name": "python3"
    },
    "language_info": {
      "name": "python"
    }
  },
  "nbformat": 4,
  "nbformat_minor": 0
}